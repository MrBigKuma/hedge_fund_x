{
 "cells": [
  {
   "cell_type": "markdown",
   "metadata": {
    "collapsed": true
   },
   "source": [
    "# Hedge Fund X\n",
    "This notebook solve the Hedge Fund X's competition challenge: Financial Modeling challenge.\n",
    "This one is used to evaluate model, tuning param to find most sutable model.\n",
    "To discover data set, check the other Notebook."
   ]
  },
  {
   "cell_type": "code",
   "execution_count": 3,
   "metadata": {
    "collapsed": true
   },
   "outputs": [],
   "source": [
    "%matplotlib inline\n",
    "import pandas as pd\n",
    "import numpy as np\n",
    "import seaborn as sns\n",
    "import matplotlib.pyplot as plt\n",
    "\n",
    "from sklearn.neighbors import KNeighborsClassifier\n",
    "from sklearn.pipeline import Pipeline\n",
    "from sklearn.ensemble import RandomForestClassifier, VotingClassifier, AdaBoostClassifier\n",
    "from sklearn.linear_model import LogisticRegression\n",
    "from sklearn.preprocessing import Imputer, StandardScaler\n",
    "from sklearn.svm import SVC\n",
    "from sklearn.tree import DecisionTreeClassifier\n",
    "from sklearn.model_selection import GridSearchCV\n",
    "from xgboost import XGBClassifier\n",
    "\n",
    "import datetime"
   ]
  },
  {
   "cell_type": "code",
   "execution_count": 4,
   "metadata": {},
   "outputs": [
    {
     "data": {
      "text/html": [
       "<div>\n",
       "<style>\n",
       "    .dataframe thead tr:only-child th {\n",
       "        text-align: right;\n",
       "    }\n",
       "\n",
       "    .dataframe thead th {\n",
       "        text-align: left;\n",
       "    }\n",
       "\n",
       "    .dataframe tbody tr th {\n",
       "        vertical-align: top;\n",
       "    }\n",
       "</style>\n",
       "<table border=\"1\" class=\"dataframe\">\n",
       "  <thead>\n",
       "    <tr style=\"text-align: right;\">\n",
       "      <th></th>\n",
       "      <th>data_id</th>\n",
       "      <th>period</th>\n",
       "      <th>c1</th>\n",
       "      <th>c2</th>\n",
       "      <th>c3</th>\n",
       "      <th>c4</th>\n",
       "      <th>c5</th>\n",
       "      <th>c6</th>\n",
       "      <th>c7</th>\n",
       "      <th>c8</th>\n",
       "      <th>...</th>\n",
       "      <th>c80</th>\n",
       "      <th>c81</th>\n",
       "      <th>c82</th>\n",
       "      <th>c83</th>\n",
       "      <th>c84</th>\n",
       "      <th>c85</th>\n",
       "      <th>c86</th>\n",
       "      <th>c87</th>\n",
       "      <th>c88</th>\n",
       "      <th>target</th>\n",
       "    </tr>\n",
       "  </thead>\n",
       "  <tbody>\n",
       "    <tr>\n",
       "      <th>0</th>\n",
       "      <td>2</td>\n",
       "      <td>train1</td>\n",
       "      <td>0.655570</td>\n",
       "      <td>-0.000022</td>\n",
       "      <td>-0.000539</td>\n",
       "      <td>-0.001075</td>\n",
       "      <td>0.0</td>\n",
       "      <td>0.0</td>\n",
       "      <td>0.213390</td>\n",
       "      <td>0.0</td>\n",
       "      <td>...</td>\n",
       "      <td>-0.023358</td>\n",
       "      <td>-0.017041</td>\n",
       "      <td>0.0</td>\n",
       "      <td>0.060697</td>\n",
       "      <td>0.0</td>\n",
       "      <td>0.0</td>\n",
       "      <td>0.000000</td>\n",
       "      <td>-0.000202</td>\n",
       "      <td>-0.140220</td>\n",
       "      <td>1</td>\n",
       "    </tr>\n",
       "    <tr>\n",
       "      <th>1</th>\n",
       "      <td>3</td>\n",
       "      <td>train1</td>\n",
       "      <td>1.646430</td>\n",
       "      <td>-0.000292</td>\n",
       "      <td>-0.008367</td>\n",
       "      <td>0.009497</td>\n",
       "      <td>0.0</td>\n",
       "      <td>0.0</td>\n",
       "      <td>0.000000</td>\n",
       "      <td>0.0</td>\n",
       "      <td>...</td>\n",
       "      <td>-0.059429</td>\n",
       "      <td>-0.009109</td>\n",
       "      <td>0.0</td>\n",
       "      <td>0.021645</td>\n",
       "      <td>0.0</td>\n",
       "      <td>0.0</td>\n",
       "      <td>0.000000</td>\n",
       "      <td>-0.004382</td>\n",
       "      <td>0.455767</td>\n",
       "      <td>0</td>\n",
       "    </tr>\n",
       "    <tr>\n",
       "      <th>2</th>\n",
       "      <td>5</td>\n",
       "      <td>train1</td>\n",
       "      <td>-0.743010</td>\n",
       "      <td>0.004642</td>\n",
       "      <td>-0.000647</td>\n",
       "      <td>-0.003290</td>\n",
       "      <td>0.0</td>\n",
       "      <td>0.0</td>\n",
       "      <td>0.000000</td>\n",
       "      <td>0.0</td>\n",
       "      <td>...</td>\n",
       "      <td>0.001796</td>\n",
       "      <td>-0.000104</td>\n",
       "      <td>0.0</td>\n",
       "      <td>-0.024718</td>\n",
       "      <td>0.0</td>\n",
       "      <td>0.0</td>\n",
       "      <td>0.219566</td>\n",
       "      <td>0.072711</td>\n",
       "      <td>1.155580</td>\n",
       "      <td>0</td>\n",
       "    </tr>\n",
       "    <tr>\n",
       "      <th>3</th>\n",
       "      <td>7</td>\n",
       "      <td>train1</td>\n",
       "      <td>0.029770</td>\n",
       "      <td>-0.006343</td>\n",
       "      <td>-0.000635</td>\n",
       "      <td>-0.002516</td>\n",
       "      <td>0.0</td>\n",
       "      <td>0.0</td>\n",
       "      <td>0.160313</td>\n",
       "      <td>0.0</td>\n",
       "      <td>...</td>\n",
       "      <td>-0.005501</td>\n",
       "      <td>0.045308</td>\n",
       "      <td>0.0</td>\n",
       "      <td>-0.148852</td>\n",
       "      <td>0.0</td>\n",
       "      <td>0.0</td>\n",
       "      <td>0.000000</td>\n",
       "      <td>-0.101181</td>\n",
       "      <td>-0.954553</td>\n",
       "      <td>0</td>\n",
       "    </tr>\n",
       "    <tr>\n",
       "      <th>4</th>\n",
       "      <td>10</td>\n",
       "      <td>train1</td>\n",
       "      <td>-0.660243</td>\n",
       "      <td>0.012591</td>\n",
       "      <td>-0.002098</td>\n",
       "      <td>-0.022264</td>\n",
       "      <td>0.0</td>\n",
       "      <td>0.0</td>\n",
       "      <td>0.000000</td>\n",
       "      <td>0.0</td>\n",
       "      <td>...</td>\n",
       "      <td>0.029034</td>\n",
       "      <td>-0.005847</td>\n",
       "      <td>0.0</td>\n",
       "      <td>-0.007073</td>\n",
       "      <td>0.0</td>\n",
       "      <td>0.0</td>\n",
       "      <td>0.000000</td>\n",
       "      <td>-0.004842</td>\n",
       "      <td>0.436002</td>\n",
       "      <td>0</td>\n",
       "    </tr>\n",
       "  </tbody>\n",
       "</table>\n",
       "<p>5 rows × 91 columns</p>\n",
       "</div>"
      ],
      "text/plain": [
       "   data_id  period        c1        c2        c3        c4   c5   c6  \\\n",
       "0        2  train1  0.655570 -0.000022 -0.000539 -0.001075  0.0  0.0   \n",
       "1        3  train1  1.646430 -0.000292 -0.008367  0.009497  0.0  0.0   \n",
       "2        5  train1 -0.743010  0.004642 -0.000647 -0.003290  0.0  0.0   \n",
       "3        7  train1  0.029770 -0.006343 -0.000635 -0.002516  0.0  0.0   \n",
       "4       10  train1 -0.660243  0.012591 -0.002098 -0.022264  0.0  0.0   \n",
       "\n",
       "         c7   c8   ...         c80       c81  c82       c83  c84  c85  \\\n",
       "0  0.213390  0.0   ...   -0.023358 -0.017041  0.0  0.060697  0.0  0.0   \n",
       "1  0.000000  0.0   ...   -0.059429 -0.009109  0.0  0.021645  0.0  0.0   \n",
       "2  0.000000  0.0   ...    0.001796 -0.000104  0.0 -0.024718  0.0  0.0   \n",
       "3  0.160313  0.0   ...   -0.005501  0.045308  0.0 -0.148852  0.0  0.0   \n",
       "4  0.000000  0.0   ...    0.029034 -0.005847  0.0 -0.007073  0.0  0.0   \n",
       "\n",
       "        c86       c87       c88  target  \n",
       "0  0.000000 -0.000202 -0.140220       1  \n",
       "1  0.000000 -0.004382  0.455767       0  \n",
       "2  0.219566  0.072711  1.155580       0  \n",
       "3  0.000000 -0.101181 -0.954553       0  \n",
       "4  0.000000 -0.004842  0.436002       0  \n",
       "\n",
       "[5 rows x 91 columns]"
      ]
     },
     "execution_count": 4,
     "metadata": {},
     "output_type": "execute_result"
    }
   ],
   "source": [
    "df = pd.read_csv(\"../input/hedge_fund_x/train.csv\")\n",
    "df_test = pd.read_csv(\"../input/hedge_fund_x/test.csv\")\n",
    "df.head(5)"
   ]
  },
  {
   "cell_type": "code",
   "execution_count": 5,
   "metadata": {
    "collapsed": true
   },
   "outputs": [],
   "source": [
    "# We drop column period to make it same as test dataset\n",
    "train1_df = df[df.period == 'train1'].drop(['period'], axis=1)"
   ]
  },
  {
   "cell_type": "markdown",
   "metadata": {},
   "source": [
    "## Training\n",
    "### Model definition\n",
    "Define multiple models to test\n",
    "_NOTE:_ Work in progress\n",
    "_TODO:_ review all pipeline"
   ]
  },
  {
   "cell_type": "code",
   "execution_count": 14,
   "metadata": {
    "collapsed": true
   },
   "outputs": [],
   "source": [
    "clf_svc = SVC(C=0.1, gamma=0.1, kernel='rbf', probability=True)\n",
    "clf_lr = LogisticRegression(C=0.1)\n",
    "clf_knn = KNeighborsClassifier(n_neighbors=15)\n",
    "clf_dt = DecisionTreeClassifier(max_depth=4)\n",
    "clf_rf = RandomForestClassifier(n_estimators=80, max_depth=5)\n",
    "pipe_svc = Pipeline([('scl', StandardScaler()), ('clf', clf_svc)])\n",
    "pipe_lr = Pipeline([('scl', StandardScaler()), ('clf', clf_lr)])\n",
    "pipe_knn = Pipeline([('scl', StandardScaler()), ('clf', clf_knn)])\n",
    "\n",
    "clf_ada = AdaBoostClassifier(n_estimators=100)\n",
    "clf_voter = VotingClassifier(\n",
    "    estimators=[('svc', pipe_svc), ('lr', pipe_lr), \n",
    "                ('knn', pipe_knn),\n",
    "                ('dt', clf_dt), ('rf', clf_rf)],\n",
    "    voting='soft')\n",
    "clf_xgb = XGBClassifier(max_depth=7, n_estimators=150, reg_lambda=10)\n",
    "\n",
    "train_df = train1_df[:3000] # Train 3000 data on train1 period\n",
    "selected_cols = [col for col in train_df.columns if col not in ['target']]\n",
    "X_train = train_df[selected_cols].values\n",
    "y_train = train_df['target'].values"
   ]
  },
  {
   "cell_type": "markdown",
   "metadata": {},
   "source": [
    "### Parameter tuning"
   ]
  },
  {
   "cell_type": "code",
   "execution_count": 10,
   "metadata": {},
   "outputs": [
    {
     "name": "stdout",
     "output_type": "stream",
     "text": [
      "('xgb', 0.69633333333333336)\n",
      "{'n_estimators': 150, 'reg_lambda': 10, 'max_depth': 7}\n"
     ]
    }
   ],
   "source": [
    "def grid_search(clf_name, X_train, y_train, est, param_grid):\n",
    "    gs = GridSearchCV(\n",
    "        estimator=est, param_grid=param_grid, scoring='accuracy', cv=10)\n",
    "    gs = gs.fit(X_train, y_train)\n",
    "    print(clf_name, gs.best_score_)\n",
    "    print(gs.best_params_)\n",
    "\n",
    "\n",
    "def grid_search_svc(X_train, y_train, est):\n",
    "    param_range = [0.1, 1.0, 10.0]\n",
    "    param_grid = [{\n",
    "        'clf__C': param_range,\n",
    "        'clf__kernel': ['linear']\n",
    "    }, {\n",
    "        'clf__C': param_range,\n",
    "        'clf__gamma': param_range,\n",
    "        'clf__kernel': ['rbf']\n",
    "    }]\n",
    "    grid_search('svc', X_train, y_train, est, param_grid)\n",
    "\n",
    "\n",
    "def grid_search_lr(X_train, y_train, est):\n",
    "    param_range = [0.001, 0.01, 0.1, 1.0, 10.0, 100.0, 1000.0]\n",
    "    param_grid = [{'clf__C': param_range}]\n",
    "    grid_search('lr', X_train, y_train, est, param_grid)\n",
    "\n",
    "\n",
    "def grid_search_knn(X_train, y_train, est):\n",
    "    param_range = [1, 5, 10, 15, 20, 25, 30, 50]\n",
    "    param_grid = [{'clf__n_neighbors': param_range}]\n",
    "    grid_search('knn', X_train, y_train, est, param_grid)\n",
    "\n",
    "\n",
    "def grid_search_dt(X_train, y_train, est):\n",
    "    param_range = [1, 2, 3, 4, 5, 6, 7, 8]\n",
    "    param_grid = [{'max_depth': param_range}]\n",
    "    grid_search('dt', X_train, y_train, est, param_grid)\n",
    "\n",
    "\n",
    "def grid_search_rf(X_train, y_train, est):\n",
    "    param_range = [80, 100, 120, 140]\n",
    "    param_grid = [{'n_estimators': param_range, 'max_depth': [3, 5, 7]}]\n",
    "    grid_search('rf', X_train, y_train, est, param_grid)\n",
    "\n",
    "\n",
    "def grid_search_ada(X_train, y_train, est):\n",
    "    param_grid = {'n_estimators': [50, 100, 200]}\n",
    "    grid_search('ada', X_train, y_train, est, param_grid)\n",
    "\n",
    "\n",
    "def grid_search_xgb(X_train, y_train, est):\n",
    "    param_grid = [{\n",
    "        'n_estimators': [50, 100, 150],\n",
    "        'max_depth': [5, 7, 9],\n",
    "        'reg_lambda': [1, 10, 100]\n",
    "    }]\n",
    "    grid_search('xgb', X_train, y_train, est, param_grid)\n",
    "\n",
    "\n",
    "# grid_search_svc(X_train, y_train, pipe_svc)\n",
    "# grid_search_lr(X_train, y_train, pipe_lr)\n",
    "# grid_search_knn(X_train, y_train, pipe_knn)\n",
    "# grid_search_dt(X_train, y_train, clf_dt)\n",
    "# grid_search_rf(X_train, y_train, clf_rf)\n",
    "# grid_search_ada(X_train, y_train, clf_ada)\n",
    "grid_search_xgb(X_train, y_train, clf_xgb)"
   ]
  },
  {
   "cell_type": "markdown",
   "metadata": {},
   "source": [
    "### Evaluate all models\n",
    "compare performance of all models"
   ]
  },
  {
   "cell_type": "code",
   "execution_count": 16,
   "metadata": {},
   "outputs": [
    {
     "name": "stdout",
     "output_type": "stream",
     "text": [
      "neg_log_loss: -0.59 (+/- 0.02) [xgboost]\n"
     ]
    }
   ],
   "source": [
    "from sklearn.model_selection import cross_val_score\n",
    "\n",
    "all_clf = [pipe_svc, pipe_lr, pipe_knn, clf_dt, clf_rf, clf_ada, clf_voter, clf_xgb]\n",
    "clf_labels = ['svc', 'lr', 'knn', 'dt', 'rf','ada', 'voter', 'xgboost']\n",
    "\n",
    "def evaluate_model(clf, clf_label, X_train, y_train, scoring_metric='accuracy'):\n",
    "    scores = cross_val_score(\n",
    "        estimator=clf, X=X_train, y=y_train, cv=10, scoring=scoring_metric)\n",
    "    print(\"{3}: {0:.2f} (+/- {1:.2f}) [{2}]\".format(scores.mean(), scores.std(),clf_label,scoring_metric))\n",
    "\n",
    "def evaluate_all_model():\n",
    "    print('10-fold cross validation:')\n",
    "    for clf, label in zip(all_clf, clf_labels):\n",
    "        evaluate_model(clf, label, X_train, y_train, 'neg_log_loss')\n",
    "\n",
    "# evaluate_all_model()\n",
    "evaluate_model(clf_xgb, 'xgboost', X_train, y_train, 'neg_log_loss')\n",
    "clf_xgb.predict_proba()"
   ]
  },
  {
   "cell_type": "markdown",
   "metadata": {},
   "source": [
    "### Plot learning curves\n",
    "Train model multiple times on different training set size to inspect overfit or underfit"
   ]
  },
  {
   "cell_type": "code",
   "execution_count": 12,
   "metadata": {},
   "outputs": [
    {
     "data": {
      "image/png": "[encoded data removed]",
      "text/plain": [
       "<matplotlib.figure.Figure at 0x7f64f30c2fd0>"
      ]
     },
     "metadata": {},
     "output_type": "display_data"
    }
   ],
   "source": [
    "from sklearn.model_selection import learning_curve\n",
    "\n",
    "def plot_learning_curve(X_train, y_train, est, title):\n",
    "    train_sizes, train_scores, test_scores = learning_curve(estimator=est,\n",
    "                       X=X_train,\n",
    "                       y=y_train,\n",
    "                       train_sizes=np.linspace(0.1, 1.0, 10),\n",
    "                       cv=10,\n",
    "                       n_jobs=1)\n",
    "\n",
    "    train_mean = np.mean(train_scores, axis=1)\n",
    "    train_std = np.std(train_scores, axis=1)\n",
    "    test_mean = np.mean(test_scores, axis=1)\n",
    "    test_std = np.std(test_scores, axis=1)\n",
    "\n",
    "    plt.plot(train_sizes, train_mean,\n",
    "             color='blue', marker='o',\n",
    "             markersize=5, label='training accuracy')\n",
    "\n",
    "    plt.fill_between(train_sizes,\n",
    "                     train_mean + train_std,\n",
    "                     train_mean - train_std,\n",
    "                     alpha=0.15, color='blue')\n",
    "\n",
    "    plt.plot(train_sizes, test_mean,\n",
    "             color='green', linestyle='--',\n",
    "             marker='s', markersize=5,\n",
    "             label='validation accuracy')\n",
    "\n",
    "    plt.fill_between(train_sizes,\n",
    "                     test_mean + test_std,\n",
    "                     test_mean - test_std,\n",
    "                     alpha=0.15, color='green')\n",
    "\n",
    "    plt.grid()\n",
    "    plt.title(title)\n",
    "    plt.xlabel('Number of training samples')\n",
    "    plt.ylabel('Accuracy')\n",
    "    plt.legend(loc='lower right')\n",
    "    plt.ylim([0.2, 1.0])\n",
    "    plt.tight_layout()\n",
    "    # plt.savefig('./figures/learning_curve.png', dpi=300)\n",
    "    plt.show()\n",
    "\n",
    "# plot_learning_curve(X_train, y_train, pipe_svc, 'svc')\n",
    "# plot_learning_curve(X_train, y_train, pipe_lr, 'lr')\n",
    "# plot_learning_curve(X_train, y_train, pipe_knn, 'knn')\n",
    "# plot_learning_curve(X_train, y_train, clf_dt, 'dt')\n",
    "# plot_learning_curve(X_train, y_train, clf_rf, 'rf')\n",
    "# plot_learning_curve(X_train, y_train, clf_ada, 'ada')\n",
    "# plot_learning_curve(X_train, y_train, clf_voter, 'voter')\n",
    "plot_learning_curve(X_train, y_train, clf_xgb, 'xgb')"
   ]
  },
  {
   "cell_type": "markdown",
   "metadata": {},
   "source": [
    "## Prediction\n",
    "Prepare train & test data for predition model"
   ]
  },
  {
   "cell_type": "code",
   "execution_count": 24,
   "metadata": {},
   "outputs": [
    {
     "name": "stdout",
     "output_type": "stream",
     "text": [
      "Train data shape: (560000, 89)\n",
      "Train data shape: (361500, 89)\n"
     ]
    }
   ],
   "source": [
    "# Train all data, to train a subset\n",
    "selected_cols = [col for col in df.columns if col not in ['period', 'target']]\n",
    "X_train = df[selected_cols].values\n",
    "y_train = df['target'].values\n",
    "X_test = df_test.values\n",
    "print 'Train data shape: {}'.format(X_train.shape)\n",
    "print 'Train data shape: {}'.format(X_test.shape)"
   ]
  },
  {
   "cell_type": "markdown",
   "metadata": {},
   "source": [
    "Fit all training data (above code is model with cross validation) and make prediction"
   ]
  },
  {
   "cell_type": "code",
   "execution_count": 25,
   "metadata": {
    "collapsed": true
   },
   "outputs": [],
   "source": [
    "chosen_est = clf_xgb\n",
    "chosen_est.fit(X_train, y_train)\n",
    "predictions = chosen_est.predict_proba(X_test)[:,1]\n",
    "submission = pd.DataFrame({'data_id': df_test['data_id'],'target': predictions})\n",
    "submission.to_csv(\"submit_{:%Y%m%d-%H%M}.csv\".format(datetime.datetime.now()), index=False)"
   ]
  },
  {
   "cell_type": "code",
   "execution_count": null,
   "metadata": {
    "collapsed": true
   },
   "outputs": [],
   "source": []
  }
 ],
 "metadata": {
  "kernelspec": {
   "display_name": "Python 3",
   "language": "python",
   "name": "python3"
  },
  "language_info": {
   "codemirror_mode": {
    "name": "ipython",
    "version": 2
   },
   "file_extension": ".py",
   "mimetype": "text/x-python",
   "name": "python",
   "nbconvert_exporter": "python",
   "pygments_lexer": "ipython2",
   "version": "2.7.12"
  }
 },
 "nbformat": 4,
 "nbformat_minor": 2
}
