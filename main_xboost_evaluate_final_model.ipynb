{
 "cells": [
  {
   "cell_type": "markdown",
   "metadata": {
    "collapsed": true
   },
   "source": [
    "# Hedge Fund X\n",
    "This notebook solve the Hedge Fund X's competition challenge: Financial Modeling challenge.\n",
    "This one is used to evaluate model, tuning param to find most sutable model.\n",
    "To discover data set, check the other Notebook."
   ]
  },
  {
   "cell_type": "code",
   "execution_count": 1,
   "metadata": {},
   "outputs": [
    {
     "name": "stderr",
     "output_type": "stream",
     "text": [
      "/usr/local/lib/python2.7/dist-packages/sklearn/cross_validation.py:41: DeprecationWarning: This module was deprecated in version 0.18 in favor of the model_selection module into which all the refactored classes and functions are moved. Also note that the interface of the new CV iterators are different from that of this module. This module will be removed in 0.20.\n",
      "  \"This module will be removed in 0.20.\", DeprecationWarning)\n"
     ]
    }
   ],
   "source": [
    "%matplotlib inline\n",
    "import pandas as pd\n",
    "import numpy as np\n",
    "import seaborn as sns\n",
    "import matplotlib.pyplot as plt\n",
    "\n",
    "from sklearn.neighbors import KNeighborsClassifier\n",
    "from sklearn.pipeline import Pipeline\n",
    "from sklearn.ensemble import RandomForestClassifier, VotingClassifier, AdaBoostClassifier\n",
    "from sklearn.linear_model import LogisticRegression\n",
    "from sklearn.preprocessing import Imputer, StandardScaler, LabelEncoder, OneHotEncoder\n",
    "from sklearn.svm import SVC\n",
    "from sklearn.tree import DecisionTreeClassifier\n",
    "from sklearn.model_selection import GridSearchCV, cross_validate\n",
    "from sklearn import metrics\n",
    "from xgboost import XGBClassifier\n",
    "\n",
    "from sklearn.externals import joblib\n",
    "import datetime"
   ]
  },
  {
   "cell_type": "code",
   "execution_count": 2,
   "metadata": {},
   "outputs": [
    {
     "data": {
      "text/html": [
       "<div>\n",
       "<style>\n",
       "    .dataframe thead tr:only-child th {\n",
       "        text-align: right;\n",
       "    }\n",
       "\n",
       "    .dataframe thead th {\n",
       "        text-align: left;\n",
       "    }\n",
       "\n",
       "    .dataframe tbody tr th {\n",
       "        vertical-align: top;\n",
       "    }\n",
       "</style>\n",
       "<table border=\"1\" class=\"dataframe\">\n",
       "  <thead>\n",
       "    <tr style=\"text-align: right;\">\n",
       "      <th></th>\n",
       "      <th>data_id</th>\n",
       "      <th>period</th>\n",
       "      <th>c1</th>\n",
       "      <th>c2</th>\n",
       "      <th>c3</th>\n",
       "      <th>c4</th>\n",
       "      <th>c5</th>\n",
       "      <th>c6</th>\n",
       "      <th>c7</th>\n",
       "      <th>c8</th>\n",
       "      <th>...</th>\n",
       "      <th>c80</th>\n",
       "      <th>c81</th>\n",
       "      <th>c82</th>\n",
       "      <th>c83</th>\n",
       "      <th>c84</th>\n",
       "      <th>c85</th>\n",
       "      <th>c86</th>\n",
       "      <th>c87</th>\n",
       "      <th>c88</th>\n",
       "      <th>target</th>\n",
       "    </tr>\n",
       "  </thead>\n",
       "  <tbody>\n",
       "    <tr>\n",
       "      <th>0</th>\n",
       "      <td>2</td>\n",
       "      <td>train1</td>\n",
       "      <td>0.655570</td>\n",
       "      <td>-0.000022</td>\n",
       "      <td>-0.000539</td>\n",
       "      <td>-0.001075</td>\n",
       "      <td>0.0</td>\n",
       "      <td>0.0</td>\n",
       "      <td>0.213390</td>\n",
       "      <td>0.0</td>\n",
       "      <td>...</td>\n",
       "      <td>-0.023358</td>\n",
       "      <td>-0.017041</td>\n",
       "      <td>0.0</td>\n",
       "      <td>0.060697</td>\n",
       "      <td>0.0</td>\n",
       "      <td>0.0</td>\n",
       "      <td>0.000000</td>\n",
       "      <td>-0.000202</td>\n",
       "      <td>-0.140220</td>\n",
       "      <td>1</td>\n",
       "    </tr>\n",
       "    <tr>\n",
       "      <th>1</th>\n",
       "      <td>3</td>\n",
       "      <td>train1</td>\n",
       "      <td>1.646430</td>\n",
       "      <td>-0.000292</td>\n",
       "      <td>-0.008367</td>\n",
       "      <td>0.009497</td>\n",
       "      <td>0.0</td>\n",
       "      <td>0.0</td>\n",
       "      <td>0.000000</td>\n",
       "      <td>0.0</td>\n",
       "      <td>...</td>\n",
       "      <td>-0.059429</td>\n",
       "      <td>-0.009109</td>\n",
       "      <td>0.0</td>\n",
       "      <td>0.021645</td>\n",
       "      <td>0.0</td>\n",
       "      <td>0.0</td>\n",
       "      <td>0.000000</td>\n",
       "      <td>-0.004382</td>\n",
       "      <td>0.455767</td>\n",
       "      <td>0</td>\n",
       "    </tr>\n",
       "    <tr>\n",
       "      <th>2</th>\n",
       "      <td>5</td>\n",
       "      <td>train1</td>\n",
       "      <td>-0.743010</td>\n",
       "      <td>0.004642</td>\n",
       "      <td>-0.000647</td>\n",
       "      <td>-0.003290</td>\n",
       "      <td>0.0</td>\n",
       "      <td>0.0</td>\n",
       "      <td>0.000000</td>\n",
       "      <td>0.0</td>\n",
       "      <td>...</td>\n",
       "      <td>0.001796</td>\n",
       "      <td>-0.000104</td>\n",
       "      <td>0.0</td>\n",
       "      <td>-0.024718</td>\n",
       "      <td>0.0</td>\n",
       "      <td>0.0</td>\n",
       "      <td>0.219566</td>\n",
       "      <td>0.072711</td>\n",
       "      <td>1.155580</td>\n",
       "      <td>0</td>\n",
       "    </tr>\n",
       "    <tr>\n",
       "      <th>3</th>\n",
       "      <td>7</td>\n",
       "      <td>train1</td>\n",
       "      <td>0.029770</td>\n",
       "      <td>-0.006343</td>\n",
       "      <td>-0.000635</td>\n",
       "      <td>-0.002516</td>\n",
       "      <td>0.0</td>\n",
       "      <td>0.0</td>\n",
       "      <td>0.160313</td>\n",
       "      <td>0.0</td>\n",
       "      <td>...</td>\n",
       "      <td>-0.005501</td>\n",
       "      <td>0.045308</td>\n",
       "      <td>0.0</td>\n",
       "      <td>-0.148852</td>\n",
       "      <td>0.0</td>\n",
       "      <td>0.0</td>\n",
       "      <td>0.000000</td>\n",
       "      <td>-0.101181</td>\n",
       "      <td>-0.954553</td>\n",
       "      <td>0</td>\n",
       "    </tr>\n",
       "    <tr>\n",
       "      <th>4</th>\n",
       "      <td>10</td>\n",
       "      <td>train1</td>\n",
       "      <td>-0.660243</td>\n",
       "      <td>0.012591</td>\n",
       "      <td>-0.002098</td>\n",
       "      <td>-0.022264</td>\n",
       "      <td>0.0</td>\n",
       "      <td>0.0</td>\n",
       "      <td>0.000000</td>\n",
       "      <td>0.0</td>\n",
       "      <td>...</td>\n",
       "      <td>0.029034</td>\n",
       "      <td>-0.005847</td>\n",
       "      <td>0.0</td>\n",
       "      <td>-0.007073</td>\n",
       "      <td>0.0</td>\n",
       "      <td>0.0</td>\n",
       "      <td>0.000000</td>\n",
       "      <td>-0.004842</td>\n",
       "      <td>0.436002</td>\n",
       "      <td>0</td>\n",
       "    </tr>\n",
       "  </tbody>\n",
       "</table>\n",
       "<p>5 rows × 91 columns</p>\n",
       "</div>"
      ],
      "text/plain": [
       "   data_id  period        c1        c2        c3        c4   c5   c6  \\\n",
       "0        2  train1  0.655570 -0.000022 -0.000539 -0.001075  0.0  0.0   \n",
       "1        3  train1  1.646430 -0.000292 -0.008367  0.009497  0.0  0.0   \n",
       "2        5  train1 -0.743010  0.004642 -0.000647 -0.003290  0.0  0.0   \n",
       "3        7  train1  0.029770 -0.006343 -0.000635 -0.002516  0.0  0.0   \n",
       "4       10  train1 -0.660243  0.012591 -0.002098 -0.022264  0.0  0.0   \n",
       "\n",
       "         c7   c8   ...         c80       c81  c82       c83  c84  c85  \\\n",
       "0  0.213390  0.0   ...   -0.023358 -0.017041  0.0  0.060697  0.0  0.0   \n",
       "1  0.000000  0.0   ...   -0.059429 -0.009109  0.0  0.021645  0.0  0.0   \n",
       "2  0.000000  0.0   ...    0.001796 -0.000104  0.0 -0.024718  0.0  0.0   \n",
       "3  0.160313  0.0   ...   -0.005501  0.045308  0.0 -0.148852  0.0  0.0   \n",
       "4  0.000000  0.0   ...    0.029034 -0.005847  0.0 -0.007073  0.0  0.0   \n",
       "\n",
       "        c86       c87       c88  target  \n",
       "0  0.000000 -0.000202 -0.140220       1  \n",
       "1  0.000000 -0.004382  0.455767       0  \n",
       "2  0.219566  0.072711  1.155580       0  \n",
       "3  0.000000 -0.101181 -0.954553       0  \n",
       "4  0.000000 -0.004842  0.436002       0  \n",
       "\n",
       "[5 rows x 91 columns]"
      ]
     },
     "execution_count": 2,
     "metadata": {},
     "output_type": "execute_result"
    }
   ],
   "source": [
    "df = pd.read_csv(\"../input/hedge_fund_x/train.csv\")\n",
    "df_test = pd.read_csv(\"../input/hedge_fund_x/test.csv\")\n",
    "df.head(5)"
   ]
  },
  {
   "cell_type": "code",
   "execution_count": 46,
   "metadata": {
    "collapsed": true
   },
   "outputs": [],
   "source": [
    "clf_xgb_period = joblib.load('clf_xgb_period_40000_14.pkl')\n",
    "clf_xgb = joblib.load('clf_xgb_40000_14.pkl')"
   ]
  },
  {
   "cell_type": "code",
   "execution_count": 47,
   "metadata": {
    "collapsed": true
   },
   "outputs": [],
   "source": [
    "def print_val_score(scores, label):\n",
    "    print \"{}: {:.2f} (+/- {:.2f})\".format(\n",
    "        label,\n",
    "        scores[label].mean(), \n",
    "        scores[label].std())\n",
    "def evaluate_model(est, train_df, excluded_cols = ['period', 'target']):\n",
    "    selected_cols = [col for col in train_df.columns if col not in excluded_cols]\n",
    "    X_train = train_df[selected_cols].values\n",
    "    y_train = train_df['target'].values\n",
    "\n",
    "    scoring={'acc':'accuracy', 'log_loss':'neg_log_loss'}\n",
    "    scores = cross_validate(estimator=est, X=X_train, y=y_train, cv=10, scoring=scoring, \n",
    "                            return_train_score=True)\n",
    "    print_val_score(scores, 'train_acc')\n",
    "    print_val_score(scores, 'test_acc')\n",
    "    print_val_score(scores, 'train_log_loss')\n",
    "    print_val_score(scores, 'test_log_loss')"
   ]
  },
  {
   "cell_type": "code",
   "execution_count": 8,
   "metadata": {
    "collapsed": true
   },
   "outputs": [],
   "source": [
    "def evaluate_period(est, train_df, excluded_cols = ['period', 'target']):\n",
    "    selected_cols = [col for col in train_df.columns if col not in excluded_cols]\n",
    "    X_test = train_df[selected_cols].values\n",
    "    y_test = train_df['target'].values\n",
    "    y_pred = est.predict(X_test)\n",
    "    y_pred_proba = clf_xgb.predict_proba(X_test)[:,1]\n",
    "    return y_pred, y_pred_proba, y_test"
   ]
  },
  {
   "cell_type": "code",
   "execution_count": 48,
   "metadata": {
    "collapsed": true
   },
   "outputs": [],
   "source": [
    "def print_pred_score(y_pred, y_pred_proba, y_test):\n",
    "    print \"Accuracy scrore: {}\".format(metrics.accuracy_score(y_test, y_pred))\n",
    "    print \"Log loss scrore: {}\".format(metrics.log_loss(y_test, y_pred_proba))"
   ]
  },
  {
   "cell_type": "markdown",
   "metadata": {},
   "source": [
    "## Remove noise\n",
    "There are some column that has so much noise, going to train with those collumn removed"
   ]
  },
  {
   "cell_type": "code",
   "execution_count": 49,
   "metadata": {},
   "outputs": [
    {
     "name": "stdout",
     "output_type": "stream",
     "text": [
      "['c45', 'c34', 'c8', 'c37', 'c23', 'c18', 'c6', 'c28', 'c62', 'c85', 'c46', 'c60', 'c5', 'c32', 'c55', 'c65', 'c41', 'c54', 'c86', 'c70', 'c63', 'c82', 'c7', 'c58', 'c52', 'c19', 'c10', 'c17', 'c13', 'c84', 'c75', 'c42', 'target', 'period', 'data_id']\n"
     ]
    }
   ],
   "source": [
    "zero_count = (train1_df==0.0).sum(axis=0).sort_values(ascending=False)\n",
    "has_zero_ratio = zero_count[zero_count > 0].div(train1_df.shape[0])\n",
    "excluded_cols = has_zero_ratio.index.values\n",
    "excluded_cols_period = [x for x in excluded_cols]\n",
    "excluded_cols_period.append('period')\n",
    "excluded_cols_period.append('data_id')\n",
    "print excluded_cols_period"
   ]
  },
  {
   "cell_type": "code",
   "execution_count": 50,
   "metadata": {
    "collapsed": true
   },
   "outputs": [],
   "source": [
    "def evaluate_period_prediction(est, train_df, excluded_cols = ['period', 'target']):\n",
    "    selected_cols = [col for col in train_df.columns if col not in excluded_cols]\n",
    "    X_test = train_df[selected_cols].values\n",
    "    y_test = train_df['period'].values\n",
    "    y_pred = est.predict(X_test)\n",
    "    return y_test, y_pred"
   ]
  },
  {
   "cell_type": "code",
   "execution_count": 51,
   "metadata": {
    "collapsed": true
   },
   "outputs": [],
   "source": [
    "train1_df = df[df.period == 'train1']\n",
    "train2_df = df[df.period == 'train2']\n",
    "train3_df = df[df.period == 'train3']\n",
    "train4_df = df[df.period == 'train4']\n",
    "train5_df = df[df.period == 'train5']\n",
    "train6_df = df[df.period == 'train6']\n",
    "train7_df = df[df.period == 'train7']"
   ]
  },
  {
   "cell_type": "code",
   "execution_count": 52,
   "metadata": {},
   "outputs": [
    {
     "name": "stdout",
     "output_type": "stream",
     "text": [
      "0.9658\n",
      "0.9613\n",
      "0.98565\n",
      "0.978625\n",
      "0.974875\n"
     ]
    }
   ],
   "source": [
    "print metrics.accuracy_score(*evaluate_period_prediction(clf_xgb_period, train1_df, excluded_cols_period))\n",
    "print metrics.accuracy_score(*evaluate_period_prediction(clf_xgb_period, train2_df, excluded_cols_period))\n",
    "print metrics.accuracy_score(*evaluate_period_prediction(clf_xgb_period, train3_df, excluded_cols_period))\n",
    "print metrics.accuracy_score(*evaluate_period_prediction(clf_xgb_period, train4_df, excluded_cols_period))\n",
    "print metrics.accuracy_score(*evaluate_period_prediction(clf_xgb_period, train5_df, excluded_cols_period))"
   ]
  },
  {
   "cell_type": "code",
   "execution_count": 55,
   "metadata": {
    "collapsed": true
   },
   "outputs": [],
   "source": [
    "selected_cols = [col for col in df_test.columns if col not in excluded_cols_period]\n",
    "X_test = df_test[selected_cols].values"
   ]
  },
  {
   "cell_type": "code",
   "execution_count": 56,
   "metadata": {},
   "outputs": [
    {
     "name": "stdout",
     "output_type": "stream",
     "text": [
      "['train8' 'train2' 'train1' ..., 'train11' 'train14' 'train2']\n"
     ]
    }
   ],
   "source": [
    "X_test_period = clf_xgb_period.predict(X_test)\n",
    "print X_test_period"
   ]
  },
  {
   "cell_type": "code",
   "execution_count": 57,
   "metadata": {},
   "outputs": [
    {
     "name": "stdout",
     "output_type": "stream",
     "text": [
      "             0\n",
      "count   361500\n",
      "unique      14\n",
      "top     train6\n",
      "freq     45251\n"
     ]
    }
   ],
   "source": [
    "print pd.DataFrame(X_test_period).describe()"
   ]
  },
  {
   "cell_type": "code",
   "execution_count": 58,
   "metadata": {},
   "outputs": [
    {
     "name": "stdout",
     "output_type": "stream",
     "text": [
      "                 c1            c2            c3            c4            c9  \\\n",
      "count  40000.000000  40000.000000  40000.000000  40000.000000  40000.000000   \n",
      "mean       0.194275      0.000022      0.001134      0.001854     -0.002790   \n",
      "std        0.993199      0.011474      0.016211      0.049617      0.017819   \n",
      "min       -3.170218     -0.101758     -0.096984     -0.342562     -0.212850   \n",
      "25%       -0.547481     -0.003520     -0.005499     -0.019518     -0.009165   \n",
      "50%        0.266653      0.000021      0.000312      0.000530     -0.000997   \n",
      "75%        0.986977      0.003843      0.006674      0.022055      0.004756   \n",
      "max        2.813221      0.079254      0.301534      1.025511      0.134326   \n",
      "\n",
      "                c11           c12           c14           c15           c16  \\\n",
      "count  40000.000000  40000.000000  40000.000000  40000.000000  40000.000000   \n",
      "mean      -0.011353     -0.025205      0.001180     -0.001357      0.001915   \n",
      "std        0.054041      0.069511      0.035470      0.016201      0.024427   \n",
      "min       -0.416105     -0.456880     -0.231991     -0.382374     -0.171372   \n",
      "25%       -0.033016     -0.063393     -0.016204     -0.003098     -0.008409   \n",
      "50%       -0.002880     -0.030323      0.000449      0.000515      0.000965   \n",
      "75%        0.019081     -0.000739      0.017068      0.004491      0.012130   \n",
      "max        0.122934      0.325516      0.538860      0.042873      0.245795   \n",
      "\n",
      "           ...                c74           c76           c77           c78  \\\n",
      "count      ...       40000.000000  40000.000000  40000.000000  40000.000000   \n",
      "mean       ...          -0.000358      0.007685     -0.001805      0.017172   \n",
      "std        ...           0.007405      0.054058      0.028483      0.126200   \n",
      "min        ...          -0.044362     -0.442602     -0.502038     -1.416035   \n",
      "25%        ...          -0.002863     -0.011102     -0.011619     -0.032204   \n",
      "50%        ...          -0.000031      0.015416     -0.000543      0.011669   \n",
      "75%        ...           0.002479      0.039664      0.008500      0.064909   \n",
      "max        ...           0.053810      0.115659      0.192636      2.157941   \n",
      "\n",
      "                c79           c80           c81           c83           c87  \\\n",
      "count  40000.000000  40000.000000  40000.000000  40000.000000  40000.000000   \n",
      "mean      -0.027122     -0.030073     -0.007718     -0.017868      0.004563   \n",
      "std        0.147428      0.134681      0.056498      0.155237      0.060560   \n",
      "min       -2.272327     -0.901700     -1.166294     -2.490106     -0.281494   \n",
      "25%       -0.093828     -0.091984     -0.028187     -0.083189     -0.022609   \n",
      "50%       -0.016969     -0.015051     -0.001859     -0.006136      0.000644   \n",
      "75%        0.034235      0.039505      0.019189      0.054801      0.030004   \n",
      "max        1.461874      0.535900      0.319507      0.732524      1.186017   \n",
      "\n",
      "                c88  \n",
      "count  40000.000000  \n",
      "mean       0.147026  \n",
      "std        1.117843  \n",
      "min       -3.386312  \n",
      "25%       -0.788257  \n",
      "50%        0.167452  \n",
      "75%        1.063834  \n",
      "max        3.176456  \n",
      "\n",
      "[8 rows x 56 columns]\n"
     ]
    }
   ],
   "source": [
    "train1_no_period_df = train1_df.drop(['period'], axis=1)[selected_cols].values\n",
    "train2_no_period_df = train2_df.drop(['period'], axis=1)[selected_cols].values\n",
    "train3_no_period_df = train3_df.drop(['period'], axis=1)[selected_cols].values\n",
    "train4_no_period_df = train4_df.drop(['period'], axis=1)[selected_cols].values\n",
    "print train4_df.drop(['period'], axis=1)[selected_cols].describe()"
   ]
  },
  {
   "cell_type": "code",
   "execution_count": 59,
   "metadata": {},
   "outputs": [
    {
     "name": "stdout",
     "output_type": "stream",
     "text": [
      "             0\n",
      "count    40000\n",
      "unique      13\n",
      "top     train1\n",
      "freq     38632\n",
      "             0\n",
      "count    40000\n",
      "unique      14\n",
      "top     train2\n",
      "freq     38452\n",
      "             0\n",
      "count    40000\n",
      "unique      13\n",
      "top     train3\n",
      "freq     39426\n",
      "             0\n",
      "count    40000\n",
      "unique      12\n",
      "top     train4\n",
      "freq     39145\n"
     ]
    }
   ],
   "source": [
    "train1_period_pred = clf_xgb_period.predict(train1_no_period_df)\n",
    "print pd.DataFrame(train1_period_pred).describe()\n",
    "train2_period_pred = clf_xgb_period.predict(train2_no_period_df)\n",
    "print pd.DataFrame(train2_period_pred).describe()\n",
    "train3_period_pred = clf_xgb_period.predict(train3_no_period_df)\n",
    "print pd.DataFrame(train3_period_pred).describe()\n",
    "train4_period_pred = clf_xgb_period.predict(train4_no_period_df)\n",
    "print pd.DataFrame(train4_period_pred).describe()"
   ]
  },
  {
   "cell_type": "markdown",
   "metadata": {},
   "source": [
    "### Predict period for data"
   ]
  },
  {
   "cell_type": "code",
   "execution_count": 289,
   "metadata": {},
   "outputs": [
    {
     "name": "stdout",
     "output_type": "stream",
     "text": [
      "[7 7 7 7 7]\n"
     ]
    }
   ],
   "source": [
    "oh = OneHotEncoder()\n",
    "le = LabelEncoder()\n",
    "period_values = df['period']\n",
    "le_period = le.fit_transform(period_values)\n",
    "print le_period[90000:90005]"
   ]
  },
  {
   "cell_type": "code",
   "execution_count": 291,
   "metadata": {},
   "outputs": [
    {
     "name": "stdout",
     "output_type": "stream",
     "text": [
      "[[ 1.  0.  0. ...,  0.  0.  0.]\n",
      " [ 1.  0.  0. ...,  0.  0.  0.]\n",
      " [ 1.  0.  0. ...,  0.  0.  0.]\n",
      " ..., \n",
      " [ 0.  0.  0. ...,  0.  0.  0.]\n",
      " [ 0.  0.  0. ...,  0.  0.  0.]\n",
      " [ 0.  0.  0. ...,  0.  0.  0.]]\n"
     ]
    }
   ],
   "source": [
    "oh_period = oh.fit_transform(le_period.reshape(-1,1)).toarray()\n",
    "print oh_period"
   ]
  },
  {
   "cell_type": "code",
   "execution_count": 293,
   "metadata": {},
   "outputs": [
    {
     "name": "stdout",
     "output_type": "stream",
     "text": [
      "(560000, 14)\n"
     ]
    }
   ],
   "source": [
    "print oh_period.shape"
   ]
  },
  {
   "cell_type": "code",
   "execution_count": 297,
   "metadata": {},
   "outputs": [
    {
     "name": "stdout",
     "output_type": "stream",
     "text": [
      "    0    1    2    3    4    5    6    7    8    9    10   11   12   13\n",
      "0  1.0  0.0  0.0  0.0  0.0  0.0  0.0  0.0  0.0  0.0  0.0  0.0  0.0  0.0\n",
      "1  1.0  0.0  0.0  0.0  0.0  0.0  0.0  0.0  0.0  0.0  0.0  0.0  0.0  0.0\n",
      "2  1.0  0.0  0.0  0.0  0.0  0.0  0.0  0.0  0.0  0.0  0.0  0.0  0.0  0.0\n",
      "3  1.0  0.0  0.0  0.0  0.0  0.0  0.0  0.0  0.0  0.0  0.0  0.0  0.0  0.0\n",
      "4  1.0  0.0  0.0  0.0  0.0  0.0  0.0  0.0  0.0  0.0  0.0  0.0  0.0  0.0\n"
     ]
    }
   ],
   "source": [
    "oh_period_df = pd.DataFrame(oh_period)\n",
    "print oh_period_df.head(5)"
   ]
  },
  {
   "cell_type": "code",
   "execution_count": 299,
   "metadata": {},
   "outputs": [
    {
     "name": "stdout",
     "output_type": "stream",
     "text": [
      "   data_id  period        c1        c2        c3        c4   c5   c6  \\\n",
      "0        2  train1  0.655570 -0.000022 -0.000539 -0.001075  0.0  0.0   \n",
      "1        3  train1  1.646430 -0.000292 -0.008367  0.009497  0.0  0.0   \n",
      "2        5  train1 -0.743010  0.004642 -0.000647 -0.003290  0.0  0.0   \n",
      "3        7  train1  0.029770 -0.006343 -0.000635 -0.002516  0.0  0.0   \n",
      "4       10  train1 -0.660243  0.012591 -0.002098 -0.022264  0.0  0.0   \n",
      "\n",
      "         c7   c8 ...     4    5    6    7    8    9   10   11   12   13  \n",
      "0  0.213390  0.0 ...   0.0  0.0  0.0  0.0  0.0  0.0  0.0  0.0  0.0  0.0  \n",
      "1  0.000000  0.0 ...   0.0  0.0  0.0  0.0  0.0  0.0  0.0  0.0  0.0  0.0  \n",
      "2  0.000000  0.0 ...   0.0  0.0  0.0  0.0  0.0  0.0  0.0  0.0  0.0  0.0  \n",
      "3  0.160313  0.0 ...   0.0  0.0  0.0  0.0  0.0  0.0  0.0  0.0  0.0  0.0  \n",
      "4  0.000000  0.0 ...   0.0  0.0  0.0  0.0  0.0  0.0  0.0  0.0  0.0  0.0  \n",
      "\n",
      "[5 rows x 105 columns]\n"
     ]
    }
   ],
   "source": [
    "enc_df = pd.concat([df, oh_period_df], axis=1)\n",
    "print enc_df.head(5)"
   ]
  },
  {
   "cell_type": "code",
   "execution_count": 300,
   "metadata": {
    "collapsed": true
   },
   "outputs": [],
   "source": [
    "def print_val_score(scores, label):\n",
    "    print \"{}: {:.2f} (+/- {:.2f})\".format(\n",
    "        label,\n",
    "        scores[label].mean(), \n",
    "        scores[label].std())\n",
    "def evaluate_model(est, train_df, excluded_cols = ['period', 'target']):\n",
    "    selected_cols = [col for col in train_df.columns if col not in excluded_cols]\n",
    "    X_train = train_df[selected_cols].values\n",
    "    y_train = train_df['target'].values\n",
    "\n",
    "    scoring={'acc':'accuracy', 'log_loss':'neg_log_loss'}\n",
    "    scores = cross_validate(estimator=est, X=X_train, y=y_train, cv=10, scoring=scoring, \n",
    "                            return_train_score=True)\n",
    "    print_val_score(scores, 'train_acc')\n",
    "    print_val_score(scores, 'test_acc')\n",
    "    print_val_score(scores, 'train_log_loss')\n",
    "    print_val_score(scores, 'test_log_loss')"
   ]
  },
  {
   "cell_type": "code",
   "execution_count": 303,
   "metadata": {},
   "outputs": [
    {
     "name": "stdout",
     "output_type": "stream",
     "text": [
      "(14000, 105)\n"
     ]
    }
   ],
   "source": [
    "train_df = pd.concat([enc_df[x*40000: x*40000 + 1000] for x in range(0,14)])\n",
    "print train_df.shape"
   ]
  },
  {
   "cell_type": "code",
   "execution_count": 307,
   "metadata": {},
   "outputs": [
    {
     "name": "stdout",
     "output_type": "stream",
     "text": [
      "(14000, 71)\n"
     ]
    }
   ],
   "source": [
    "selected_cols = [col for col in train_df.columns if col not in excluded_cols_period]\n",
    "X_train = train_df[selected_cols].values\n",
    "y_train = train_df['target'].values\n",
    "print X_train.shape"
   ]
  },
  {
   "cell_type": "code",
   "execution_count": 310,
   "metadata": {},
   "outputs": [
    {
     "data": {
      "text/plain": [
       "XGBClassifier(base_score=0.5, colsample_bylevel=1, colsample_bytree=1,\n",
       "       gamma=0, learning_rate=0.1, max_delta_step=0, max_depth=7,\n",
       "       min_child_weight=1, missing=None, n_estimators=150, nthread=-1,\n",
       "       objective='binary:logistic', reg_alpha=0, reg_lambda=100,\n",
       "       scale_pos_weight=1, seed=0, silent=True, subsample=1)"
      ]
     },
     "execution_count": 310,
     "metadata": {},
     "output_type": "execute_result"
    }
   ],
   "source": [
    "clf_xgb = XGBClassifier(max_depth=7, n_estimators=150, reg_lambda=100)\n",
    "clf_xgb.fit(X_train, y_train)"
   ]
  },
  {
   "cell_type": "code",
   "execution_count": 314,
   "metadata": {},
   "outputs": [
    {
     "name": "stdout",
     "output_type": "stream",
     "text": [
      "Accuracy scrore: 0.5825\n",
      "Log loss scrore: 0.670210687175\n"
     ]
    }
   ],
   "source": [
    "enc_train_1000_9000_df = pd.concat([enc_df[x*40000 + 1000: x*40000 + 9000] for x in range(0,14)])\n",
    "print_pred_score(*evaluate_period(enc_train_1000_2000_df, clf_xgb, excluded_cols_period))"
   ]
  },
  {
   "cell_type": "markdown",
   "metadata": {},
   "source": [
    "## Try to predict test"
   ]
  },
  {
   "cell_type": "code",
   "execution_count": 325,
   "metadata": {
    "collapsed": true
   },
   "outputs": [],
   "source": [
    "selected_cols = [col for col in df_test.columns if col not in excluded_cols]\n",
    "X_test = df_test[selected_cols].values"
   ]
  },
  {
   "cell_type": "code",
   "execution_count": 326,
   "metadata": {},
   "outputs": [
    {
     "name": "stdout",
     "output_type": "stream",
     "text": [
      "['train14' 'train14' 'train14' ..., 'train14' 'train14' 'train14']\n"
     ]
    }
   ],
   "source": [
    "X_test_period = clf_xgb_period.predict(X_test)\n",
    "print X_test_period"
   ]
  },
  {
   "cell_type": "code",
   "execution_count": 332,
   "metadata": {},
   "outputs": [
    {
     "name": "stdout",
     "output_type": "stream",
     "text": [
      "[[ 0.  0.  0. ...,  0.  0.  0.]\n",
      " [ 0.  0.  0. ...,  0.  0.  0.]\n",
      " [ 0.  0.  0. ...,  0.  0.  0.]\n",
      " ..., \n",
      " [ 0.  0.  0. ...,  0.  0.  0.]\n",
      " [ 0.  0.  0. ...,  0.  0.  0.]\n",
      " [ 0.  0.  0. ...,  0.  0.  0.]]\n"
     ]
    }
   ],
   "source": [
    "X_test_period_enc = oh.transform(le.transform(X_test_period).reshape(-1,1)).toarray()\n",
    "print X_test_period_enc"
   ]
  },
  {
   "cell_type": "code",
   "execution_count": 352,
   "metadata": {},
   "outputs": [
    {
     "name": "stdout",
     "output_type": "stream",
     "text": [
      "(361500, 14)\n"
     ]
    }
   ],
   "source": [
    "print X_test_period_enc.shape"
   ]
  },
  {
   "cell_type": "code",
   "execution_count": 354,
   "metadata": {},
   "outputs": [
    {
     "name": "stdout",
     "output_type": "stream",
     "text": [
      "    0    1    2    3    4    5    6    7    8    9    10   11   12   13\n",
      "0  0.0  0.0  0.0  0.0  0.0  1.0  0.0  0.0  0.0  0.0  0.0  0.0  0.0  0.0\n",
      "1  0.0  0.0  0.0  0.0  0.0  1.0  0.0  0.0  0.0  0.0  0.0  0.0  0.0  0.0\n",
      "2  0.0  0.0  0.0  0.0  0.0  1.0  0.0  0.0  0.0  0.0  0.0  0.0  0.0  0.0\n",
      "3  0.0  0.0  0.0  0.0  0.0  1.0  0.0  0.0  0.0  0.0  0.0  0.0  0.0  0.0\n",
      "4  0.0  0.0  0.0  0.0  0.0  1.0  0.0  0.0  0.0  0.0  0.0  0.0  0.0  0.0\n",
      "(361500, 14)\n"
     ]
    }
   ],
   "source": [
    "X_test_period_enc_df = pd.DataFrame(X_test_period_enc)\n",
    "print X_test_period_enc_df.head(5)\n",
    "print X_test_period_enc_df.shape"
   ]
  },
  {
   "cell_type": "code",
   "execution_count": 355,
   "metadata": {},
   "outputs": [
    {
     "name": "stdout",
     "output_type": "stream",
     "text": [
      "(361500, 103)\n"
     ]
    }
   ],
   "source": [
    "X_test_enc_df = pd.concat([df_test, X_test_period_enc_df], axis=1)\n",
    "print X_test_enc_df.shape"
   ]
  },
  {
   "cell_type": "code",
   "execution_count": 356,
   "metadata": {},
   "outputs": [
    {
     "name": "stdout",
     "output_type": "stream",
     "text": [
      "(361500, 71)\n"
     ]
    }
   ],
   "source": [
    "selected_cols = [col for col in X_test_enc_df.columns if col not in excluded_cols_period]\n",
    "X_test = X_test_enc_df[selected_cols].values\n",
    "print X_test.shape"
   ]
  },
  {
   "cell_type": "code",
   "execution_count": 357,
   "metadata": {},
   "outputs": [
    {
     "name": "stdout",
     "output_type": "stream",
     "text": [
      "[ 0.4448325   0.58099896  0.52614629 ...,  0.5523901   0.63789403\n",
      "  0.46348256]\n"
     ]
    }
   ],
   "source": [
    "predictions = clf_xgb.predict_proba(X_test)[:,1]\n",
    "print predictions"
   ]
  },
  {
   "cell_type": "code",
   "execution_count": 358,
   "metadata": {},
   "outputs": [
    {
     "name": "stdout",
     "output_type": "stream",
     "text": [
      "(361500,)\n"
     ]
    }
   ],
   "source": [
    "print predictions.shape"
   ]
  },
  {
   "cell_type": "code",
   "execution_count": 350,
   "metadata": {},
   "outputs": [
    {
     "name": "stdout",
     "output_type": "stream",
     "text": [
      "(361500, 89)\n"
     ]
    }
   ],
   "source": [
    "print df_test.shape"
   ]
  },
  {
   "cell_type": "code",
   "execution_count": 359,
   "metadata": {
    "collapsed": true
   },
   "outputs": [],
   "source": [
    "submission = pd.DataFrame({'data_id': df_test['data_id'],'target': predictions})\n",
    "submission.to_csv(\"submit_{:%Y%m%d-%H%M}.csv\".format(datetime.datetime.now()), index=False)"
   ]
  },
  {
   "cell_type": "markdown",
   "metadata": {},
   "source": [
    "## Prediction\n",
    "Prepare train & test data for predition model"
   ]
  },
  {
   "cell_type": "code",
   "execution_count": 130,
   "metadata": {},
   "outputs": [
    {
     "name": "stdout",
     "output_type": "stream",
     "text": [
      "Train data shape: (560000, 57)\n",
      "Train data shape: (361500, 57)\n"
     ]
    }
   ],
   "source": [
    "# Train all data, to train a subset\n",
    "# selected_cols = [col for col in train1_df.columns if col not in ['period', 'target']]\n",
    "selected_cols = [col for col in train1_df.columns if col not in excluded_cols]\n",
    "X_train = df[selected_cols].values\n",
    "y_train = df['target'].values\n",
    "X_test = df_test[selected_cols].values\n",
    "print 'Train data shape: {}'.format(X_train.shape)\n",
    "print 'Train data shape: {}'.format(X_test.shape)"
   ]
  },
  {
   "cell_type": "markdown",
   "metadata": {},
   "source": [
    "Fit all training data (above code is model with cross validation) and make prediction"
   ]
  },
  {
   "cell_type": "code",
   "execution_count": 131,
   "metadata": {
    "collapsed": true
   },
   "outputs": [],
   "source": [
    "chosen_est = clf_xgb\n",
    "chosen_est.fit(X_train, y_train)\n",
    "predictions = chosen_est.predict_proba(X_test)[:,1]\n",
    "submission = pd.DataFrame({'data_id': df_test['data_id'],'target': predictions})\n",
    "submission.to_csv(\"submit_{:%Y%m%d-%H%M}.csv\".format(datetime.datetime.now()), index=False)"
   ]
  },
  {
   "cell_type": "code",
   "execution_count": null,
   "metadata": {
    "collapsed": true
   },
   "outputs": [],
   "source": []
  }
 ],
 "metadata": {
  "kernelspec": {
   "display_name": "Python 3",
   "language": "python",
   "name": "python3"
  },
  "language_info": {
   "codemirror_mode": {
    "name": "ipython",
    "version": 2
   },
   "file_extension": ".py",
   "mimetype": "text/x-python",
   "name": "python",
   "nbconvert_exporter": "python",
   "pygments_lexer": "ipython2",
   "version": "2.7.12"
  }
 },
 "nbformat": 4,
 "nbformat_minor": 2
}
