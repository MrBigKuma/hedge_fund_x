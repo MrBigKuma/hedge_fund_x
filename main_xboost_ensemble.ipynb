{
 "cells": [
  {
   "cell_type": "markdown",
   "metadata": {
    "collapsed": true
   },
   "source": [
    "# Hedge Fund X\n",
    "This notebook solve the Hedge Fund X's competition challenge: Financial Modeling challenge.\n",
    "This one is used to evaluate model, tuning param to find most sutable model.\n",
    "To discover data set, check the other Notebook."
   ]
  },
  {
   "cell_type": "code",
   "execution_count": 360,
   "metadata": {
    "collapsed": true
   },
   "outputs": [],
   "source": [
    "%matplotlib inline\n",
    "import pandas as pd\n",
    "import numpy as np\n",
    "import seaborn as sns\n",
    "import matplotlib.pyplot as plt\n",
    "\n",
    "from sklearn.neighbors import KNeighborsClassifier\n",
    "from sklearn.pipeline import Pipeline\n",
    "from sklearn.ensemble import RandomForestClassifier, VotingClassifier, AdaBoostClassifier\n",
    "from sklearn.linear_model import LogisticRegression\n",
    "from sklearn.preprocessing import Imputer, StandardScaler, LabelEncoder, OneHotEncoder\n",
    "from sklearn.svm import SVC\n",
    "from sklearn.tree import DecisionTreeClassifier\n",
    "from sklearn.model_selection import GridSearchCV, cross_validate\n",
    "from sklearn import metrics\n",
    "from xgboost import XGBClassifier\n",
    "\n",
    "from sklearn.externals import joblib\n",
    "import datetime"
   ]
  },
  {
   "cell_type": "code",
   "execution_count": 361,
   "metadata": {},
   "outputs": [
    {
     "data": {
      "text/html": [
       "<div>\n",
       "<style>\n",
       "    .dataframe thead tr:only-child th {\n",
       "        text-align: right;\n",
       "    }\n",
       "\n",
       "    .dataframe thead th {\n",
       "        text-align: left;\n",
       "    }\n",
       "\n",
       "    .dataframe tbody tr th {\n",
       "        vertical-align: top;\n",
       "    }\n",
       "</style>\n",
       "<table border=\"1\" class=\"dataframe\">\n",
       "  <thead>\n",
       "    <tr style=\"text-align: right;\">\n",
       "      <th></th>\n",
       "      <th>data_id</th>\n",
       "      <th>period</th>\n",
       "      <th>c1</th>\n",
       "      <th>c2</th>\n",
       "      <th>c3</th>\n",
       "      <th>c4</th>\n",
       "      <th>c5</th>\n",
       "      <th>c6</th>\n",
       "      <th>c7</th>\n",
       "      <th>c8</th>\n",
       "      <th>...</th>\n",
       "      <th>c80</th>\n",
       "      <th>c81</th>\n",
       "      <th>c82</th>\n",
       "      <th>c83</th>\n",
       "      <th>c84</th>\n",
       "      <th>c85</th>\n",
       "      <th>c86</th>\n",
       "      <th>c87</th>\n",
       "      <th>c88</th>\n",
       "      <th>target</th>\n",
       "    </tr>\n",
       "  </thead>\n",
       "  <tbody>\n",
       "    <tr>\n",
       "      <th>0</th>\n",
       "      <td>2</td>\n",
       "      <td>train1</td>\n",
       "      <td>0.655570</td>\n",
       "      <td>-0.000022</td>\n",
       "      <td>-0.000539</td>\n",
       "      <td>-0.001075</td>\n",
       "      <td>0.0</td>\n",
       "      <td>0.0</td>\n",
       "      <td>0.213390</td>\n",
       "      <td>0.0</td>\n",
       "      <td>...</td>\n",
       "      <td>-0.023358</td>\n",
       "      <td>-0.017041</td>\n",
       "      <td>0.0</td>\n",
       "      <td>0.060697</td>\n",
       "      <td>0.0</td>\n",
       "      <td>0.0</td>\n",
       "      <td>0.000000</td>\n",
       "      <td>-0.000202</td>\n",
       "      <td>-0.140220</td>\n",
       "      <td>1</td>\n",
       "    </tr>\n",
       "    <tr>\n",
       "      <th>1</th>\n",
       "      <td>3</td>\n",
       "      <td>train1</td>\n",
       "      <td>1.646430</td>\n",
       "      <td>-0.000292</td>\n",
       "      <td>-0.008367</td>\n",
       "      <td>0.009497</td>\n",
       "      <td>0.0</td>\n",
       "      <td>0.0</td>\n",
       "      <td>0.000000</td>\n",
       "      <td>0.0</td>\n",
       "      <td>...</td>\n",
       "      <td>-0.059429</td>\n",
       "      <td>-0.009109</td>\n",
       "      <td>0.0</td>\n",
       "      <td>0.021645</td>\n",
       "      <td>0.0</td>\n",
       "      <td>0.0</td>\n",
       "      <td>0.000000</td>\n",
       "      <td>-0.004382</td>\n",
       "      <td>0.455767</td>\n",
       "      <td>0</td>\n",
       "    </tr>\n",
       "    <tr>\n",
       "      <th>2</th>\n",
       "      <td>5</td>\n",
       "      <td>train1</td>\n",
       "      <td>-0.743010</td>\n",
       "      <td>0.004642</td>\n",
       "      <td>-0.000647</td>\n",
       "      <td>-0.003290</td>\n",
       "      <td>0.0</td>\n",
       "      <td>0.0</td>\n",
       "      <td>0.000000</td>\n",
       "      <td>0.0</td>\n",
       "      <td>...</td>\n",
       "      <td>0.001796</td>\n",
       "      <td>-0.000104</td>\n",
       "      <td>0.0</td>\n",
       "      <td>-0.024718</td>\n",
       "      <td>0.0</td>\n",
       "      <td>0.0</td>\n",
       "      <td>0.219566</td>\n",
       "      <td>0.072711</td>\n",
       "      <td>1.155580</td>\n",
       "      <td>0</td>\n",
       "    </tr>\n",
       "    <tr>\n",
       "      <th>3</th>\n",
       "      <td>7</td>\n",
       "      <td>train1</td>\n",
       "      <td>0.029770</td>\n",
       "      <td>-0.006343</td>\n",
       "      <td>-0.000635</td>\n",
       "      <td>-0.002516</td>\n",
       "      <td>0.0</td>\n",
       "      <td>0.0</td>\n",
       "      <td>0.160313</td>\n",
       "      <td>0.0</td>\n",
       "      <td>...</td>\n",
       "      <td>-0.005501</td>\n",
       "      <td>0.045308</td>\n",
       "      <td>0.0</td>\n",
       "      <td>-0.148852</td>\n",
       "      <td>0.0</td>\n",
       "      <td>0.0</td>\n",
       "      <td>0.000000</td>\n",
       "      <td>-0.101181</td>\n",
       "      <td>-0.954553</td>\n",
       "      <td>0</td>\n",
       "    </tr>\n",
       "    <tr>\n",
       "      <th>4</th>\n",
       "      <td>10</td>\n",
       "      <td>train1</td>\n",
       "      <td>-0.660243</td>\n",
       "      <td>0.012591</td>\n",
       "      <td>-0.002098</td>\n",
       "      <td>-0.022264</td>\n",
       "      <td>0.0</td>\n",
       "      <td>0.0</td>\n",
       "      <td>0.000000</td>\n",
       "      <td>0.0</td>\n",
       "      <td>...</td>\n",
       "      <td>0.029034</td>\n",
       "      <td>-0.005847</td>\n",
       "      <td>0.0</td>\n",
       "      <td>-0.007073</td>\n",
       "      <td>0.0</td>\n",
       "      <td>0.0</td>\n",
       "      <td>0.000000</td>\n",
       "      <td>-0.004842</td>\n",
       "      <td>0.436002</td>\n",
       "      <td>0</td>\n",
       "    </tr>\n",
       "  </tbody>\n",
       "</table>\n",
       "<p>5 rows × 91 columns</p>\n",
       "</div>"
      ],
      "text/plain": [
       "   data_id  period        c1        c2        c3        c4   c5   c6  \\\n",
       "0        2  train1  0.655570 -0.000022 -0.000539 -0.001075  0.0  0.0   \n",
       "1        3  train1  1.646430 -0.000292 -0.008367  0.009497  0.0  0.0   \n",
       "2        5  train1 -0.743010  0.004642 -0.000647 -0.003290  0.0  0.0   \n",
       "3        7  train1  0.029770 -0.006343 -0.000635 -0.002516  0.0  0.0   \n",
       "4       10  train1 -0.660243  0.012591 -0.002098 -0.022264  0.0  0.0   \n",
       "\n",
       "         c7   c8   ...         c80       c81  c82       c83  c84  c85  \\\n",
       "0  0.213390  0.0   ...   -0.023358 -0.017041  0.0  0.060697  0.0  0.0   \n",
       "1  0.000000  0.0   ...   -0.059429 -0.009109  0.0  0.021645  0.0  0.0   \n",
       "2  0.000000  0.0   ...    0.001796 -0.000104  0.0 -0.024718  0.0  0.0   \n",
       "3  0.160313  0.0   ...   -0.005501  0.045308  0.0 -0.148852  0.0  0.0   \n",
       "4  0.000000  0.0   ...    0.029034 -0.005847  0.0 -0.007073  0.0  0.0   \n",
       "\n",
       "        c86       c87       c88  target  \n",
       "0  0.000000 -0.000202 -0.140220       1  \n",
       "1  0.000000 -0.004382  0.455767       0  \n",
       "2  0.219566  0.072711  1.155580       0  \n",
       "3  0.000000 -0.101181 -0.954553       0  \n",
       "4  0.000000 -0.004842  0.436002       0  \n",
       "\n",
       "[5 rows x 91 columns]"
      ]
     },
     "execution_count": 361,
     "metadata": {},
     "output_type": "execute_result"
    }
   ],
   "source": [
    "df = pd.read_csv(\"../input/hedge_fund_x/train.csv\")\n",
    "df_test = pd.read_csv(\"../input/hedge_fund_x/test.csv\")\n",
    "df.head(5)"
   ]
  },
  {
   "cell_type": "markdown",
   "metadata": {},
   "source": [
    "## Training\n",
    "### Model definition\n",
    "Define multiple models to test\n",
    "_NOTE:_ Work in progress\n",
    "_TODO:_ review all pipeline"
   ]
  },
  {
   "cell_type": "markdown",
   "metadata": {},
   "source": [
    "## Remove noise\n",
    "There are some column that has so much noise, going to train with those collumn removed"
   ]
  },
  {
   "cell_type": "code",
   "execution_count": 362,
   "metadata": {},
   "outputs": [
    {
     "name": "stdout",
     "output_type": "stream",
     "text": [
      "['c8' 'c37' 'c34' 'c45' 'c23' 'c18' 'c6' 'c62' 'c28' 'c85' 'c46' 'c60'\n",
      " 'c55' 'c65' 'c5' 'c32' 'c41' 'c54' 'c86' 'c70' 'c63' 'c82' 'c7' 'c19'\n",
      " 'c58' 'c52' 'c17' 'c10' 'c13' 'c84' 'c75' 'c42' 'target']\n"
     ]
    }
   ],
   "source": [
    "zero_count = (train1_df==0.0).sum(axis=0).sort_values(ascending=False)\n",
    "has_zero_ratio = zero_count[zero_count > 0].div(train1_df.shape[0])\n",
    "excluded_cols = has_zero_ratio.index\n",
    "print excluded_cols.values"
   ]
  },
  {
   "cell_type": "markdown",
   "metadata": {},
   "source": [
    "### Predict period"
   ]
  },
  {
   "cell_type": "code",
   "execution_count": 416,
   "metadata": {
    "collapsed": true
   },
   "outputs": [],
   "source": [
    "clf_xgb_period = XGBClassifier(max_depth=7, n_estimators=150, reg_lambda=100, \n",
    "                               objective='multi:softmax', \n",
    "                               nthread=10)"
   ]
  },
  {
   "cell_type": "code",
   "execution_count": 417,
   "metadata": {},
   "outputs": [
    {
     "name": "stdout",
     "output_type": "stream",
     "text": [
      "(560000, 91)\n"
     ]
    }
   ],
   "source": [
    "# train_df = pd.concat([df[x*40000: x*40000 + 1000] for x in range(0,14)])\n",
    "train_df = df\n",
    "print train_df.shape"
   ]
  },
  {
   "cell_type": "code",
   "execution_count": 418,
   "metadata": {},
   "outputs": [
    {
     "name": "stdout",
     "output_type": "stream",
     "text": [
      "['target', 'period', 'data_id']\n"
     ]
    }
   ],
   "source": [
    "# excluded_cols_period = [x for x in excluded_cols]\n",
    "# excluded_cols_period.append('period')\n",
    "# excluded_cols_period.append('data_id')\n",
    "excluded_cols_period = ['target', 'period', 'data_id']\n",
    "print excluded_cols_period"
   ]
  },
  {
   "cell_type": "code",
   "execution_count": 419,
   "metadata": {},
   "outputs": [
    {
     "name": "stdout",
     "output_type": "stream",
     "text": [
      "(560000, 88)\n"
     ]
    }
   ],
   "source": [
    "selected_cols = [col for col in train_df.columns if col not in excluded_cols_period]\n",
    "X_train = train_df[selected_cols].values\n",
    "y_train = train_df['period'].values\n",
    "print X_train.shape"
   ]
  },
  {
   "cell_type": "code",
   "execution_count": null,
   "metadata": {
    "collapsed": true
   },
   "outputs": [],
   "source": [
    "clf_xgb_period.fit(X_train, y_train, verbose=True)"
   ]
  },
  {
   "cell_type": "code",
   "execution_count": null,
   "metadata": {
    "collapsed": true
   },
   "outputs": [],
   "source": [
    "joblib.dump(clf_xgb_period, 'clf_xgb_period_40000_14_all_param.pkl')"
   ]
  },
  {
   "cell_type": "markdown",
   "metadata": {},
   "source": [
    "### Predict period for data"
   ]
  },
  {
   "cell_type": "code",
   "execution_count": null,
   "metadata": {},
   "outputs": [],
   "source": [
    "oh = OneHotEncoder()\n",
    "le = LabelEncoder()\n",
    "period_values = df['period']\n",
    "le_period = le.fit_transform(period_values)\n",
    "print le_period[90000:90005]"
   ]
  },
  {
   "cell_type": "code",
   "execution_count": null,
   "metadata": {},
   "outputs": [],
   "source": [
    "oh_period = oh.fit_transform(le_period.reshape(-1,1)).toarray()\n",
    "print oh_period\n",
    "print oh_period.shape"
   ]
  },
  {
   "cell_type": "code",
   "execution_count": null,
   "metadata": {},
   "outputs": [],
   "source": [
    "print oh_period.shape"
   ]
  },
  {
   "cell_type": "code",
   "execution_count": null,
   "metadata": {},
   "outputs": [],
   "source": [
    "oh_period_df = pd.DataFrame(oh_period)\n",
    "print oh_period_df.head(5)"
   ]
  },
  {
   "cell_type": "code",
   "execution_count": null,
   "metadata": {},
   "outputs": [],
   "source": [
    "enc_df = pd.concat([df, oh_period_df], axis=1)\n",
    "print enc_df.head(5)"
   ]
  },
  {
   "cell_type": "code",
   "execution_count": null,
   "metadata": {},
   "outputs": [],
   "source": [
    "selected_cols = [col for col in enc_df.columns if col not in excluded_cols_period]\n",
    "X_train = enc_df[selected_cols].values\n",
    "y_train = enc_df['target'].values\n",
    "print X_train.shape"
   ]
  },
  {
   "cell_type": "code",
   "execution_count": null,
   "metadata": {},
   "outputs": [],
   "source": [
    "clf_xgb = XGBClassifier(max_depth=7, n_estimators=150, reg_lambda=100)\n",
    "clf_xgb.fit(X_train, y_train)"
   ]
  },
  {
   "cell_type": "code",
   "execution_count": null,
   "metadata": {},
   "outputs": [],
   "source": [
    "joblib.dump(clf_xgb, 'clf_xgb_40000_14_all_param.pkl')"
   ]
  },
  {
   "cell_type": "markdown",
   "metadata": {},
   "source": [
    "## Try to predict test"
   ]
  },
  {
   "cell_type": "code",
   "execution_count": null,
   "metadata": {
    "collapsed": true
   },
   "outputs": [],
   "source": [
    "selected_cols = [col for col in df_test.columns if col not in excluded_cols_period]\n",
    "X_test = df_test[selected_cols].values"
   ]
  },
  {
   "cell_type": "code",
   "execution_count": null,
   "metadata": {},
   "outputs": [],
   "source": [
    "X_test_period = clf_xgb_period.predict(X_test)\n",
    "print X_test_period"
   ]
  },
  {
   "cell_type": "code",
   "execution_count": null,
   "metadata": {},
   "outputs": [],
   "source": [
    "X_test_period_enc = oh.transform(le.transform(X_test_period).reshape(-1,1)).toarray()\n",
    "print X_test_period_enc"
   ]
  },
  {
   "cell_type": "code",
   "execution_count": null,
   "metadata": {},
   "outputs": [],
   "source": [
    "print X_test_period_enc.shape"
   ]
  },
  {
   "cell_type": "code",
   "execution_count": null,
   "metadata": {},
   "outputs": [],
   "source": [
    "X_test_period_enc_df = pd.DataFrame(X_test_period_enc)\n",
    "print X_test_period_enc_df.head(5)\n",
    "print X_test_period_enc_df.shape"
   ]
  },
  {
   "cell_type": "code",
   "execution_count": null,
   "metadata": {},
   "outputs": [],
   "source": [
    "X_test_enc_df = pd.concat([df_test, X_test_period_enc_df], axis=1)\n",
    "print X_test_enc_df.shape"
   ]
  },
  {
   "cell_type": "code",
   "execution_count": null,
   "metadata": {},
   "outputs": [],
   "source": [
    "selected_cols = [col for col in X_test_enc_df.columns if col not in excluded_cols_period]\n",
    "X_test = X_test_enc_df[selected_cols].values\n",
    "print X_test.shape"
   ]
  },
  {
   "cell_type": "code",
   "execution_count": null,
   "metadata": {},
   "outputs": [],
   "source": [
    "predictions = clf_xgb.predict_proba(X_test)[:,1]\n",
    "print predictions"
   ]
  },
  {
   "cell_type": "code",
   "execution_count": null,
   "metadata": {},
   "outputs": [],
   "source": [
    "print predictions.shape"
   ]
  },
  {
   "cell_type": "code",
   "execution_count": null,
   "metadata": {
    "collapsed": true
   },
   "outputs": [],
   "source": [
    "submission = pd.DataFrame({'data_id': df_test['data_id'],'target': predictions})\n",
    "submission.to_csv(\"submit_{:%Y%m%d-%H%M}.csv\".format(datetime.datetime.now()), index=False)"
   ]
  },
  {
   "cell_type": "markdown",
   "metadata": {},
   "source": [
    "## Prediction\n",
    "Prepare train & test data for predition model"
   ]
  },
  {
   "cell_type": "code",
   "execution_count": 130,
   "metadata": {},
   "outputs": [
    {
     "name": "stdout",
     "output_type": "stream",
     "text": [
      "Train data shape: (560000, 57)\n",
      "Train data shape: (361500, 57)\n"
     ]
    }
   ],
   "source": [
    "# Train all data, to train a subset\n",
    "# selected_cols = [col for col in train1_df.columns if col not in ['period', 'target']]\n",
    "selected_cols = [col for col in train1_df.columns if col not in excluded_cols]\n",
    "X_train = df[selected_cols].values\n",
    "y_train = df['target'].values\n",
    "X_test = df_test[selected_cols].values\n",
    "print 'Train data shape: {}'.format(X_train.shape)\n",
    "print 'Train data shape: {}'.format(X_test.shape)"
   ]
  },
  {
   "cell_type": "markdown",
   "metadata": {},
   "source": [
    "Fit all training data (above code is model with cross validation) and make prediction"
   ]
  },
  {
   "cell_type": "code",
   "execution_count": 131,
   "metadata": {
    "collapsed": true
   },
   "outputs": [],
   "source": [
    "chosen_est = clf_xgb\n",
    "chosen_est.fit(X_train, y_train)\n",
    "predictions = chosen_est.predict_proba(X_test)[:,1]\n",
    "submission = pd.DataFrame({'data_id': df_test['data_id'],'target': predictions})\n",
    "submission.to_csv(\"submit_{:%Y%m%d-%H%M}.csv\".format(datetime.datetime.now()), index=False)"
   ]
  },
  {
   "cell_type": "code",
   "execution_count": null,
   "metadata": {
    "collapsed": true
   },
   "outputs": [],
   "source": []
  }
 ],
 "metadata": {
  "kernelspec": {
   "display_name": "Python 3",
   "language": "python",
   "name": "python3"
  },
  "language_info": {
   "codemirror_mode": {
    "name": "ipython",
    "version": 2
   },
   "file_extension": ".py",
   "mimetype": "text/x-python",
   "name": "python",
   "nbconvert_exporter": "python",
   "pygments_lexer": "ipython2",
   "version": "2.7.12"
  }
 },
 "nbformat": 4,
 "nbformat_minor": 2
}
