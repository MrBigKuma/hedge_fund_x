{
 "cells": [
  {
   "cell_type": "markdown",
   "metadata": {
    "collapsed": true
   },
   "source": [
    "# Hedge Fund X\n",
    "This notebook solve the Hedge Fund X's competition challenge: Financial Modeling challenge.\n",
    "This one is used to evaluate model, tuning param to find most sutable model.\n",
    "To discover data set, check the other Notebook."
   ]
  },
  {
   "cell_type": "code",
   "execution_count": null,
   "metadata": {
    "collapsed": true
   },
   "outputs": [],
   "source": [
    "%matplotlib inline\n",
    "import pandas as pd\n",
    "import numpy as np\n",
    "import seaborn as sns\n",
    "import matplotlib.pyplot as plt\n",
    "\n",
    "from sklearn.neighbors import KNeighborsClassifier\n",
    "from sklearn.pipeline import Pipeline\n",
    "from sklearn.ensemble import RandomForestClassifier, VotingClassifier, AdaBoostClassifier\n",
    "from sklearn.linear_model import LogisticRegression\n",
    "from sklearn.preprocessing import Imputer, StandardScaler, LabelEncoder, OneHotEncoder\n",
    "from sklearn.svm import SVC\n",
    "from sklearn.tree import DecisionTreeClassifier\n",
    "from sklearn.model_selection import GridSearchCV, cross_validate\n",
    "from sklearn import metrics\n",
    "from xgboost import XGBClassifier\n",
    "\n",
    "import datetime"
   ]
  },
  {
   "cell_type": "code",
   "execution_count": 6,
   "metadata": {},
   "outputs": [
    {
     "data": {
      "text/html": [
       "<div>\n",
       "<style>\n",
       "    .dataframe thead tr:only-child th {\n",
       "        text-align: right;\n",
       "    }\n",
       "\n",
       "    .dataframe thead th {\n",
       "        text-align: left;\n",
       "    }\n",
       "\n",
       "    .dataframe tbody tr th {\n",
       "        vertical-align: top;\n",
       "    }\n",
       "</style>\n",
       "<table border=\"1\" class=\"dataframe\">\n",
       "  <thead>\n",
       "    <tr style=\"text-align: right;\">\n",
       "      <th></th>\n",
       "      <th>data_id</th>\n",
       "      <th>period</th>\n",
       "      <th>c1</th>\n",
       "      <th>c2</th>\n",
       "      <th>c3</th>\n",
       "      <th>c4</th>\n",
       "      <th>c5</th>\n",
       "      <th>c6</th>\n",
       "      <th>c7</th>\n",
       "      <th>c8</th>\n",
       "      <th>...</th>\n",
       "      <th>c80</th>\n",
       "      <th>c81</th>\n",
       "      <th>c82</th>\n",
       "      <th>c83</th>\n",
       "      <th>c84</th>\n",
       "      <th>c85</th>\n",
       "      <th>c86</th>\n",
       "      <th>c87</th>\n",
       "      <th>c88</th>\n",
       "      <th>target</th>\n",
       "    </tr>\n",
       "  </thead>\n",
       "  <tbody>\n",
       "    <tr>\n",
       "      <th>0</th>\n",
       "      <td>2</td>\n",
       "      <td>train1</td>\n",
       "      <td>0.655570</td>\n",
       "      <td>-0.000022</td>\n",
       "      <td>-0.000539</td>\n",
       "      <td>-0.001075</td>\n",
       "      <td>0.0</td>\n",
       "      <td>0.0</td>\n",
       "      <td>0.213390</td>\n",
       "      <td>0.0</td>\n",
       "      <td>...</td>\n",
       "      <td>-0.023358</td>\n",
       "      <td>-0.017041</td>\n",
       "      <td>0.0</td>\n",
       "      <td>0.060697</td>\n",
       "      <td>0.0</td>\n",
       "      <td>0.0</td>\n",
       "      <td>0.000000</td>\n",
       "      <td>-0.000202</td>\n",
       "      <td>-0.140220</td>\n",
       "      <td>1</td>\n",
       "    </tr>\n",
       "    <tr>\n",
       "      <th>1</th>\n",
       "      <td>3</td>\n",
       "      <td>train1</td>\n",
       "      <td>1.646430</td>\n",
       "      <td>-0.000292</td>\n",
       "      <td>-0.008367</td>\n",
       "      <td>0.009497</td>\n",
       "      <td>0.0</td>\n",
       "      <td>0.0</td>\n",
       "      <td>0.000000</td>\n",
       "      <td>0.0</td>\n",
       "      <td>...</td>\n",
       "      <td>-0.059429</td>\n",
       "      <td>-0.009109</td>\n",
       "      <td>0.0</td>\n",
       "      <td>0.021645</td>\n",
       "      <td>0.0</td>\n",
       "      <td>0.0</td>\n",
       "      <td>0.000000</td>\n",
       "      <td>-0.004382</td>\n",
       "      <td>0.455767</td>\n",
       "      <td>0</td>\n",
       "    </tr>\n",
       "    <tr>\n",
       "      <th>2</th>\n",
       "      <td>5</td>\n",
       "      <td>train1</td>\n",
       "      <td>-0.743010</td>\n",
       "      <td>0.004642</td>\n",
       "      <td>-0.000647</td>\n",
       "      <td>-0.003290</td>\n",
       "      <td>0.0</td>\n",
       "      <td>0.0</td>\n",
       "      <td>0.000000</td>\n",
       "      <td>0.0</td>\n",
       "      <td>...</td>\n",
       "      <td>0.001796</td>\n",
       "      <td>-0.000104</td>\n",
       "      <td>0.0</td>\n",
       "      <td>-0.024718</td>\n",
       "      <td>0.0</td>\n",
       "      <td>0.0</td>\n",
       "      <td>0.219566</td>\n",
       "      <td>0.072711</td>\n",
       "      <td>1.155580</td>\n",
       "      <td>0</td>\n",
       "    </tr>\n",
       "    <tr>\n",
       "      <th>3</th>\n",
       "      <td>7</td>\n",
       "      <td>train1</td>\n",
       "      <td>0.029770</td>\n",
       "      <td>-0.006343</td>\n",
       "      <td>-0.000635</td>\n",
       "      <td>-0.002516</td>\n",
       "      <td>0.0</td>\n",
       "      <td>0.0</td>\n",
       "      <td>0.160313</td>\n",
       "      <td>0.0</td>\n",
       "      <td>...</td>\n",
       "      <td>-0.005501</td>\n",
       "      <td>0.045308</td>\n",
       "      <td>0.0</td>\n",
       "      <td>-0.148852</td>\n",
       "      <td>0.0</td>\n",
       "      <td>0.0</td>\n",
       "      <td>0.000000</td>\n",
       "      <td>-0.101181</td>\n",
       "      <td>-0.954553</td>\n",
       "      <td>0</td>\n",
       "    </tr>\n",
       "    <tr>\n",
       "      <th>4</th>\n",
       "      <td>10</td>\n",
       "      <td>train1</td>\n",
       "      <td>-0.660243</td>\n",
       "      <td>0.012591</td>\n",
       "      <td>-0.002098</td>\n",
       "      <td>-0.022264</td>\n",
       "      <td>0.0</td>\n",
       "      <td>0.0</td>\n",
       "      <td>0.000000</td>\n",
       "      <td>0.0</td>\n",
       "      <td>...</td>\n",
       "      <td>0.029034</td>\n",
       "      <td>-0.005847</td>\n",
       "      <td>0.0</td>\n",
       "      <td>-0.007073</td>\n",
       "      <td>0.0</td>\n",
       "      <td>0.0</td>\n",
       "      <td>0.000000</td>\n",
       "      <td>-0.004842</td>\n",
       "      <td>0.436002</td>\n",
       "      <td>0</td>\n",
       "    </tr>\n",
       "  </tbody>\n",
       "</table>\n",
       "<p>5 rows × 91 columns</p>\n",
       "</div>"
      ],
      "text/plain": [
       "   data_id  period        c1        c2        c3        c4   c5   c6  \\\n",
       "0        2  train1  0.655570 -0.000022 -0.000539 -0.001075  0.0  0.0   \n",
       "1        3  train1  1.646430 -0.000292 -0.008367  0.009497  0.0  0.0   \n",
       "2        5  train1 -0.743010  0.004642 -0.000647 -0.003290  0.0  0.0   \n",
       "3        7  train1  0.029770 -0.006343 -0.000635 -0.002516  0.0  0.0   \n",
       "4       10  train1 -0.660243  0.012591 -0.002098 -0.022264  0.0  0.0   \n",
       "\n",
       "         c7   c8   ...         c80       c81  c82       c83  c84  c85  \\\n",
       "0  0.213390  0.0   ...   -0.023358 -0.017041  0.0  0.060697  0.0  0.0   \n",
       "1  0.000000  0.0   ...   -0.059429 -0.009109  0.0  0.021645  0.0  0.0   \n",
       "2  0.000000  0.0   ...    0.001796 -0.000104  0.0 -0.024718  0.0  0.0   \n",
       "3  0.160313  0.0   ...   -0.005501  0.045308  0.0 -0.148852  0.0  0.0   \n",
       "4  0.000000  0.0   ...    0.029034 -0.005847  0.0 -0.007073  0.0  0.0   \n",
       "\n",
       "        c86       c87       c88  target  \n",
       "0  0.000000 -0.000202 -0.140220       1  \n",
       "1  0.000000 -0.004382  0.455767       0  \n",
       "2  0.219566  0.072711  1.155580       0  \n",
       "3  0.000000 -0.101181 -0.954553       0  \n",
       "4  0.000000 -0.004842  0.436002       0  \n",
       "\n",
       "[5 rows x 91 columns]"
      ]
     },
     "execution_count": 6,
     "metadata": {},
     "output_type": "execute_result"
    }
   ],
   "source": [
    "df = pd.read_csv(\"../input/hedge_fund_x/train.csv\")\n",
    "df_test = pd.read_csv(\"../input/hedge_fund_x/test.csv\")\n",
    "df.head(5)"
   ]
  },
  {
   "cell_type": "code",
   "execution_count": 7,
   "metadata": {
    "collapsed": true
   },
   "outputs": [],
   "source": [
    "# We drop column period to make it same as test dataset\n",
    "train1_df = df[df.period == 'train1'].drop(['period'], axis=1)"
   ]
  },
  {
   "cell_type": "markdown",
   "metadata": {},
   "source": [
    "## Training\n",
    "### Model definition\n",
    "Define multiple models to test\n",
    "_NOTE:_ Work in progress\n",
    "_TODO:_ review all pipeline"
   ]
  },
  {
   "cell_type": "code",
   "execution_count": 8,
   "metadata": {
    "collapsed": true
   },
   "outputs": [],
   "source": [
    "clf_xgb = XGBClassifier(max_depth=7, n_estimators=150, reg_lambda=10)"
   ]
  },
  {
   "cell_type": "markdown",
   "metadata": {},
   "source": [
    "### Parameter tuning"
   ]
  },
  {
   "cell_type": "markdown",
   "metadata": {},
   "source": [
    "### Evaluate model\n",
    "compare performance of model"
   ]
  },
  {
   "cell_type": "code",
   "execution_count": 126,
   "metadata": {
    "collapsed": true
   },
   "outputs": [],
   "source": [
    "def print_val_score(scores, label):\n",
    "    print \"{}: {:.2f} (+/- {:.2f})\".format(\n",
    "        label,\n",
    "        scores[label].mean(), \n",
    "        scores[label].std())\n",
    "def evaluate_model(est, train_df, excluded_cols = ['period', 'target']):\n",
    "    selected_cols = [col for col in train_df.columns if col not in excluded_cols]\n",
    "    X_train = train_df[selected_cols].values\n",
    "    y_train = train_df['target'].values\n",
    "\n",
    "    scoring={'acc':'accuracy', 'log_loss':'neg_log_loss'}\n",
    "    scores = cross_validate(estimator=est, X=X_train, y=y_train, cv=10, scoring=scoring, \n",
    "                            return_train_score=True)\n",
    "    print_val_score(scores, 'train_acc')\n",
    "    print_val_score(scores, 'test_acc')\n",
    "    print_val_score(scores, 'train_log_loss')\n",
    "    print_val_score(scores, 'test_log_loss')"
   ]
  },
  {
   "cell_type": "markdown",
   "metadata": {},
   "source": [
    "### Baseline performance\n",
    "We treat this as a baseline for our optimization, if we get over this, we are getting better"
   ]
  },
  {
   "cell_type": "code",
   "execution_count": 33,
   "metadata": {},
   "outputs": [
    {
     "name": "stdout",
     "output_type": "stream",
     "text": [
      "train_acc: 0.92 (+/- 0.00)\n",
      "test_acc: 0.82 (+/- 0.10)\n",
      "train_log_loss: -0.33 (+/- 0.01)\n",
      "test_log_loss: -0.44 (+/- 0.09)\n"
     ]
    }
   ],
   "source": [
    "evaluate_model(clf_xgb, train1_df)"
   ]
  },
  {
   "cell_type": "markdown",
   "metadata": {},
   "source": [
    "### Use model to predict next period"
   ]
  },
  {
   "cell_type": "code",
   "execution_count": 76,
   "metadata": {},
   "outputs": [
    {
     "data": {
      "text/plain": [
       "XGBClassifier(base_score=0.5, colsample_bylevel=1, colsample_bytree=1,\n",
       "       gamma=0, learning_rate=0.1, max_delta_step=0, max_depth=7,\n",
       "       min_child_weight=1, missing=None, n_estimators=150, nthread=-1,\n",
       "       objective='binary:logistic', reg_alpha=0, reg_lambda=10,\n",
       "       scale_pos_weight=1, seed=0, silent=True, subsample=1)"
      ]
     },
     "execution_count": 76,
     "metadata": {},
     "output_type": "execute_result"
    }
   ],
   "source": [
    "selected_cols = [col for col in df.columns if col not in ['period', 'target']]\n",
    "train1_df = df[df.period == 'train1'].drop(['period'], axis=1)\n",
    "X_train = train1_df[selected_cols].values\n",
    "y_train = train1_df['target'].values\n",
    "\n",
    "clf_xgb.fit(X_train, y_train)"
   ]
  },
  {
   "cell_type": "code",
   "execution_count": 116,
   "metadata": {
    "collapsed": true
   },
   "outputs": [],
   "source": [
    "def evaluate_period(est, train_df, excluded_cols = ['period', 'target']):\n",
    "    selected_cols = [col for col in train_df.columns if col not in excluded_cols]\n",
    "    X_test = train_df[selected_cols].values\n",
    "    y_test = train_df['target'].values\n",
    "    y_pred = est.predict(X_test)\n",
    "    y_pred_proba = clf_xgb.predict_proba(X_test)[:,1]\n",
    "    return y_pred, y_pred_proba, y_test"
   ]
  },
  {
   "cell_type": "code",
   "execution_count": 117,
   "metadata": {
    "collapsed": true
   },
   "outputs": [],
   "source": [
    "def print_pred_score(y_pred, y_pred_proba, y_test):\n",
    "    print \"Accuracy scrore: {}\".format(metrics.accuracy_score(y_test, y_pred))\n",
    "    print \"Log loss scrore: {}\".format(metrics.log_loss(y_test, y_pred_proba))"
   ]
  },
  {
   "cell_type": "code",
   "execution_count": 80,
   "metadata": {
    "collapsed": true
   },
   "outputs": [],
   "source": [
    "train2_df = df[df.period == 'train2'].drop(['period'], axis=1)"
   ]
  },
  {
   "cell_type": "code",
   "execution_count": 81,
   "metadata": {},
   "outputs": [
    {
     "name": "stdout",
     "output_type": "stream",
     "text": [
      "Accuracy scrore: 0.9168\n",
      "Log loss scrore: 0.339864600846\n",
      "Accuracy scrore: 0.498525\n",
      "Log loss scrore: 0.751101043463\n"
     ]
    }
   ],
   "source": [
    "print_pred_score(*evaluate_period(clf_xgb, train1_df))\n",
    "print_pred_score(*evaluate_period(clf_xgb, train2_df))"
   ]
  },
  {
   "cell_type": "markdown",
   "metadata": {},
   "source": [
    "Naive Xgboost doesn't do well on next period. Look like the schematics of different period is different. Let try other"
   ]
  },
  {
   "cell_type": "code",
   "execution_count": 82,
   "metadata": {
    "collapsed": true
   },
   "outputs": [],
   "source": [
    "train3_df = df[df.period == 'train3'].drop(['period'], axis=1)\n",
    "train4_df = df[df.period == 'train4'].drop(['period'], axis=1)\n",
    "train5_df = df[df.period == 'train5'].drop(['period'], axis=1)"
   ]
  },
  {
   "cell_type": "code",
   "execution_count": 83,
   "metadata": {},
   "outputs": [
    {
     "name": "stdout",
     "output_type": "stream",
     "text": [
      "Accuracy scrore: 0.48865\n",
      "Log loss scrore: 0.77315410604\n",
      "Accuracy scrore: 0.50055\n",
      "Log loss scrore: 0.759808796312\n",
      "Accuracy scrore: 0.50835\n",
      "Log loss scrore: 0.750535000322\n"
     ]
    }
   ],
   "source": [
    "print_pred_score(*evaluate_period(train3_df))\n",
    "print_pred_score(*evaluate_period(train4_df))\n",
    "print_pred_score(*evaluate_period(train5_df))"
   ]
  },
  {
   "cell_type": "markdown",
   "metadata": {},
   "source": [
    "The accuracy score is 0.5, which means we are as worse as random!"
   ]
  },
  {
   "cell_type": "markdown",
   "metadata": {},
   "source": [
    "## Remove noise\n",
    "There are some column that has so much noise, going to train with those collumn removed"
   ]
  },
  {
   "cell_type": "code",
   "execution_count": 114,
   "metadata": {},
   "outputs": [
    {
     "name": "stdout",
     "output_type": "stream",
     "text": [
      "['c8' 'c37' 'c34' 'c45' 'c23' 'c18' 'c6' 'c62' 'c28' 'c85' 'c46' 'c60'\n",
      " 'c55' 'c65' 'c5' 'c32' 'c41' 'c54' 'c86' 'c70' 'c63' 'c82' 'c7' 'c19'\n",
      " 'c58' 'c52' 'c17' 'c10' 'c13' 'c84' 'c75' 'c42' 'target']\n"
     ]
    }
   ],
   "source": [
    "zero_count = (train1_df==0.0).sum(axis=0).sort_values(ascending=False)\n",
    "has_zero_ratio = zero_count[zero_count > 0].div(train1_df.shape[0])\n",
    "excluded_cols = has_zero_ratio.index\n",
    "print excluded_cols.values"
   ]
  },
  {
   "cell_type": "code",
   "execution_count": 128,
   "metadata": {},
   "outputs": [
    {
     "name": "stdout",
     "output_type": "stream",
     "text": [
      "train_acc: 0.93 (+/- 0.00)\n",
      "test_acc: 0.83 (+/- 0.10)\n",
      "train_log_loss: -0.30 (+/- 0.01)\n",
      "test_log_loss: -0.42 (+/- 0.10)\n"
     ]
    }
   ],
   "source": [
    "train1_df = df[df.period == 'train1'].drop(['period'], axis=1)\n",
    "selected_cols = [col for col in train1_df.columns if col not in excluded_cols]\n",
    "X_train = train1_df[selected_cols].values\n",
    "y_train = train1_df['target'].values\n",
    "\n",
    "clf_xgb.fit(X_train, y_train)\n",
    "evaluate_model(clf_xgb, train1_df, excluded_cols)"
   ]
  },
  {
   "cell_type": "code",
   "execution_count": 127,
   "metadata": {},
   "outputs": [
    {
     "name": "stdout",
     "output_type": "stream",
     "text": [
      "Accuracy scrore: 0.927875\n",
      "Log loss scrore: 0.298220415532\n",
      "Accuracy scrore: 0.4979\n",
      "Log loss scrore: 0.761795944967\n",
      "Accuracy scrore: 0.48895\n",
      "Log loss scrore: 0.780703311869\n",
      "Accuracy scrore: 0.49895\n",
      "Log loss scrore: 0.770825451828\n",
      "Accuracy scrore: 0.512425\n",
      "Log loss scrore: 0.760564929533\n"
     ]
    }
   ],
   "source": [
    "print_pred_score(*evaluate_period(train1_df, clf_xgb, excluded_cols))\n",
    "print_pred_score(*evaluate_period(train2_df, clf_xgb, excluded_cols))\n",
    "print_pred_score(*evaluate_period(train3_df, clf_xgb, excluded_cols))\n",
    "print_pred_score(*evaluate_period(train4_df, clf_xgb, excluded_cols))\n",
    "print_pred_score(*evaluate_period(train5_df, clf_xgb, excluded_cols))"
   ]
  },
  {
   "cell_type": "markdown",
   "metadata": {},
   "source": [
    "Remove missing data increase performance of tree (val also increase, but make no sense to validation)"
   ]
  },
  {
   "cell_type": "markdown",
   "metadata": {},
   "source": [
    "## Config parameter"
   ]
  },
  {
   "cell_type": "code",
   "execution_count": 134,
   "metadata": {},
   "outputs": [
    {
     "name": "stdout",
     "output_type": "stream",
     "text": [
      "train_acc: 0.90 (+/- 0.00)\n",
      "test_acc: 0.84 (+/- 0.03)\n",
      "train_log_loss: -0.37 (+/- 0.00)\n",
      "test_log_loss: -0.44 (+/- 0.02)\n"
     ]
    }
   ],
   "source": [
    "train1_df = df[df.period == 'train1'].drop(['period'], axis=1)\n",
    "selected_cols = [col for col in train1_df.columns if col not in excluded_cols]\n",
    "X_train = train1_df[selected_cols].values\n",
    "y_train = train1_df['target'].values\n",
    "\n",
    "clf_xgb = XGBClassifier(max_depth=7, n_estimators=150, reg_lambda=100)\n",
    "clf_xgb.fit(X_train, y_train)\n",
    "evaluate_model(clf_xgb, train1_df, excluded_cols)"
   ]
  },
  {
   "cell_type": "code",
   "execution_count": 135,
   "metadata": {},
   "outputs": [
    {
     "name": "stdout",
     "output_type": "stream",
     "text": [
      "Accuracy scrore: 0.487325\n",
      "Log loss scrore: 0.738585041917\n",
      "Accuracy scrore: 0.482875\n",
      "Log loss scrore: 0.74065795263\n",
      "Accuracy scrore: 0.486175\n",
      "Log loss scrore: 0.745111142795\n",
      "Accuracy scrore: 0.502975\n",
      "Log loss scrore: 0.728499262134\n"
     ]
    }
   ],
   "source": [
    "print_pred_score(*evaluate_period(train2_df, clf_xgb, excluded_cols))\n",
    "print_pred_score(*evaluate_period(train3_df, clf_xgb, excluded_cols))\n",
    "print_pred_score(*evaluate_period(train4_df, clf_xgb, excluded_cols))\n",
    "print_pred_score(*evaluate_period(train5_df, clf_xgb, excluded_cols))"
   ]
  },
  {
   "cell_type": "markdown",
   "metadata": {},
   "source": [
    "## Evaluate next period by group of previous period\n",
    "Try to see if data on a **group** of period can help to increase prediction accuracy on other period"
   ]
  },
  {
   "cell_type": "code",
   "execution_count": 141,
   "metadata": {},
   "outputs": [
    {
     "name": "stdout",
     "output_type": "stream",
     "text": [
      "(160000, 90)\n"
     ]
    }
   ],
   "source": [
    "train_df = pd.concat([train1_df, train2_df, train3_df, train4_df])\n",
    "X_train = train_df[selected_cols].values\n",
    "y_train = train_df['target'].values\n",
    "print train_df.shape"
   ]
  },
  {
   "cell_type": "code",
   "execution_count": 142,
   "metadata": {},
   "outputs": [
    {
     "name": "stdout",
     "output_type": "stream",
     "text": [
      "train_acc: 0.82 (+/- 0.00)\n",
      "test_acc: 0.72 (+/- 0.04)\n",
      "train_log_loss: -0.53 (+/- 0.00)\n",
      "test_log_loss: -0.59 (+/- 0.02)\n"
     ]
    }
   ],
   "source": [
    "clf_xgb.fit(X_train, y_train)\n",
    "evaluate_model(clf_xgb, train_df, excluded_cols)"
   ]
  },
  {
   "cell_type": "code",
   "execution_count": 143,
   "metadata": {},
   "outputs": [
    {
     "name": "stdout",
     "output_type": "stream",
     "text": [
      "Accuracy scrore: 0.810325\n",
      "Log loss scrore: 0.548924755372\n",
      "Accuracy scrore: 0.491525\n",
      "Log loss scrore: 0.716300661858\n"
     ]
    }
   ],
   "source": [
    "print_pred_score(*evaluate_period(train1_df, clf_xgb, excluded_cols))\n",
    "print_pred_score(*evaluate_period(train5_df, clf_xgb, excluded_cols))"
   ]
  },
  {
   "cell_type": "markdown",
   "metadata": {},
   "source": [
    "Group of training data on 4 periods doesn't increase accuracy of the 5th period. So:\n",
    "1. There is bug in our model (I config Xgboost wrong)\n",
    "2. Model is not have enough capability to capture feature (I doubt this)\n",
    "3. The data between 2 periods is nonsense"
   ]
  },
  {
   "cell_type": "markdown",
   "metadata": {},
   "source": [
    "### Try to train half-half\n",
    "Use 75% of a period to predict 25% of that period"
   ]
  },
  {
   "cell_type": "code",
   "execution_count": 144,
   "metadata": {},
   "outputs": [
    {
     "name": "stdout",
     "output_type": "stream",
     "text": [
      "(120000, 90)\n"
     ]
    }
   ],
   "source": [
    "train_df = pd.concat([train1_df[:30000], train2_df[:30000], train3_df[:30000], train4_df[:30000]])\n",
    "X_train = train_df[selected_cols].values\n",
    "y_train = train_df['target'].values\n",
    "print train_df.shape"
   ]
  },
  {
   "cell_type": "code",
   "execution_count": 145,
   "metadata": {},
   "outputs": [
    {
     "name": "stdout",
     "output_type": "stream",
     "text": [
      "train_acc: 0.82 (+/- 0.00)\n",
      "test_acc: 0.73 (+/- 0.02)\n",
      "train_log_loss: -0.53 (+/- 0.00)\n",
      "test_log_loss: -0.59 (+/- 0.02)\n"
     ]
    }
   ],
   "source": [
    "clf_xgb.fit(X_train, y_train)\n",
    "evaluate_model(clf_xgb, train_df, excluded_cols)"
   ]
  },
  {
   "cell_type": "code",
   "execution_count": 146,
   "metadata": {},
   "outputs": [
    {
     "name": "stdout",
     "output_type": "stream",
     "text": [
      "Accuracy scrore: 0.7547\n",
      "Log loss scrore: 0.584702878413\n",
      "Accuracy scrore: 0.5091\n",
      "Log loss scrore: 0.708663111234\n"
     ]
    }
   ],
   "source": [
    "print_pred_score(*evaluate_period(train1_df[30000:], clf_xgb, excluded_cols))\n",
    "print_pred_score(*evaluate_period(train5_df[30000:], clf_xgb, excluded_cols))"
   ]
  },
  {
   "cell_type": "markdown",
   "metadata": {},
   "source": [
    "There is tiny improvement, but not enough"
   ]
  },
  {
   "cell_type": "markdown",
   "metadata": {},
   "source": [
    "### Try on single period to train half-half"
   ]
  },
  {
   "cell_type": "code",
   "execution_count": 147,
   "metadata": {},
   "outputs": [
    {
     "name": "stdout",
     "output_type": "stream",
     "text": [
      "(30000, 90)\n"
     ]
    }
   ],
   "source": [
    "train_df = train1_df[:30000]\n",
    "X_train = train_df[selected_cols].values\n",
    "y_train = train_df['target'].values\n",
    "print train_df.shape"
   ]
  },
  {
   "cell_type": "code",
   "execution_count": 148,
   "metadata": {},
   "outputs": [
    {
     "name": "stdout",
     "output_type": "stream",
     "text": [
      "train_acc: 0.91 (+/- 0.00)\n",
      "test_acc: 0.84 (+/- 0.01)\n",
      "train_log_loss: -0.37 (+/- 0.00)\n",
      "test_log_loss: -0.45 (+/- 0.01)\n"
     ]
    }
   ],
   "source": [
    "clf_xgb.fit(X_train, y_train)\n",
    "evaluate_model(clf_xgb, train_df, excluded_cols)"
   ]
  },
  {
   "cell_type": "code",
   "execution_count": 149,
   "metadata": {},
   "outputs": [
    {
     "name": "stdout",
     "output_type": "stream",
     "text": [
      "Accuracy scrore: 0.8348\n",
      "Log loss scrore: 0.447209817151\n"
     ]
    }
   ],
   "source": [
    "print_pred_score(*evaluate_period(train1_df[30000:], clf_xgb, excluded_cols))"
   ]
  },
  {
   "cell_type": "markdown",
   "metadata": {},
   "source": [
    "Yes! Data within same period get a very good result. Try again with period 2"
   ]
  },
  {
   "cell_type": "code",
   "execution_count": 150,
   "metadata": {},
   "outputs": [
    {
     "name": "stdout",
     "output_type": "stream",
     "text": [
      "(30000, 90)\n"
     ]
    }
   ],
   "source": [
    "train_df = train2_df[:30000]\n",
    "X_train = train_df[selected_cols].values\n",
    "y_train = train_df['target'].values\n",
    "print train_df.shape"
   ]
  },
  {
   "cell_type": "code",
   "execution_count": 151,
   "metadata": {},
   "outputs": [
    {
     "name": "stdout",
     "output_type": "stream",
     "text": [
      "train_acc: 0.90 (+/- 0.00)\n",
      "test_acc: 0.81 (+/- 0.01)\n",
      "train_log_loss: -0.40 (+/- 0.00)\n",
      "test_log_loss: -0.48 (+/- 0.00)\n"
     ]
    }
   ],
   "source": [
    "clf_xgb.fit(X_train, y_train)\n",
    "evaluate_model(clf_xgb, train_df, excluded_cols)"
   ]
  },
  {
   "cell_type": "code",
   "execution_count": 152,
   "metadata": {},
   "outputs": [
    {
     "name": "stdout",
     "output_type": "stream",
     "text": [
      "Accuracy scrore: 0.8099\n",
      "Log loss scrore: 0.486093644936\n"
     ]
    }
   ],
   "source": [
    "print_pred_score(*evaluate_period(train2_df[30000:], clf_xgb, excluded_cols))"
   ]
  },
  {
   "cell_type": "markdown",
   "metadata": {},
   "source": [
    "So look like feature has different meaning between periods. So we can try to detect which period it's first, then predict the target."
   ]
  },
  {
   "cell_type": "markdown",
   "metadata": {},
   "source": [
    "### Predict period"
   ]
  },
  {
   "cell_type": "code",
   "execution_count": 168,
   "metadata": {
    "collapsed": true
   },
   "outputs": [],
   "source": [
    "clf_xgb_period = XGBClassifier(max_depth=7, n_estimators=150, reg_lambda=100, \n",
    "                               objective='multi:softmax')"
   ]
  },
  {
   "cell_type": "code",
   "execution_count": 220,
   "metadata": {},
   "outputs": [
    {
     "name": "stdout",
     "output_type": "stream",
     "text": [
      "(35000, 91)\n"
     ]
    }
   ],
   "source": [
    "train_df = pd.concat([df[x*40000: x*40000 + 5000] for x in range(0,7)])\n",
    "print train_df.shape"
   ]
  },
  {
   "cell_type": "code",
   "execution_count": 221,
   "metadata": {
    "collapsed": true
   },
   "outputs": [],
   "source": [
    "def evaluate_model(est, train_df, excluded_cols = ['period', 'target']):\n",
    "    selected_cols = [col for col in train_df.columns if col not in excluded_cols]\n",
    "    X_train = train_df[selected_cols].values\n",
    "    y_train = train_df['period'].values\n",
    "#     le = LabelEncoder()\n",
    "#     le.fit(y_train)\n",
    "#     y_train = le.transform(y_train)\n",
    "\n",
    "    scoring={'acc':'accuracy', 'log_loss':'neg_log_loss'}\n",
    "    scores = cross_validate(estimator=est, X=X_train, y=y_train, cv=10, scoring=scoring)\n",
    "    print_val_score(scores, 'train_acc')\n",
    "    print_val_score(scores, 'test_acc')\n",
    "    print_val_score(scores, 'train_log_loss')\n",
    "    print_val_score(scores, 'test_log_loss')"
   ]
  },
  {
   "cell_type": "code",
   "execution_count": 222,
   "metadata": {
    "collapsed": true
   },
   "outputs": [],
   "source": [
    "excluded_cols_period = [x for x in excluded_cols]\n",
    "excluded_cols_period.append('period')"
   ]
  },
  {
   "cell_type": "code",
   "execution_count": 223,
   "metadata": {},
   "outputs": [
    {
     "name": "stdout",
     "output_type": "stream",
     "text": [
      "train_acc: 1.00 (+/- 0.00)\n",
      "test_acc: 1.00 (+/- 0.00)\n",
      "train_log_loss: -0.00 (+/- 0.00)\n",
      "test_log_loss: -0.00 (+/- 0.00)\n"
     ]
    }
   ],
   "source": [
    "evaluate_model(clf_xgb_period, train_df, excluded_cols_period)"
   ]
  },
  {
   "cell_type": "markdown",
   "metadata": {},
   "source": [
    "### Predict period for data"
   ]
  },
  {
   "cell_type": "code",
   "execution_count": null,
   "metadata": {},
   "outputs": [],
   "source": [
    "oh = OneHotEncoder()\n",
    "oh_period = oh.fit_transform(df['period'].values)\n",
    "oh_df = pd.concat([df, oh_period], axis=1)\n",
    "print oh_df.head(5)"
   ]
  },
  {
   "cell_type": "code",
   "execution_count": null,
   "metadata": {
    "collapsed": true
   },
   "outputs": [],
   "source": []
  },
  {
   "cell_type": "markdown",
   "metadata": {},
   "source": [
    "### Plot learning curves\n",
    "Train model multiple times on different training set size to inspect overfit or underfit"
   ]
  },
  {
   "cell_type": "code",
   "execution_count": 2,
   "metadata": {
    "collapsed": true
   },
   "outputs": [],
   "source": [
    "from sklearn.model_selection import learning_curve\n",
    "\n",
    "def plot_learning_curve(X_train, y_train, est, title):\n",
    "    train_sizes, train_scores, test_scores = learning_curve(estimator=est,\n",
    "                       X=X_train,\n",
    "                       y=y_train,\n",
    "                       train_sizes=np.linspace(0.1, 1.0, 10),\n",
    "                       cv=10,\n",
    "                       n_jobs=1)\n",
    "\n",
    "    train_mean = np.mean(train_scores, axis=1)\n",
    "    train_std = np.std(train_scores, axis=1)\n",
    "    test_mean = np.mean(test_scores, axis=1)\n",
    "    test_std = np.std(test_scores, axis=1)\n",
    "\n",
    "    plt.plot(train_sizes, train_mean,\n",
    "             color='blue', marker='o',\n",
    "             markersize=5, label='training accuracy')\n",
    "\n",
    "    plt.fill_between(train_sizes,\n",
    "                     train_mean + train_std,\n",
    "                     train_mean - train_std,\n",
    "                     alpha=0.15, color='blue')\n",
    "\n",
    "    plt.plot(train_sizes, test_mean,\n",
    "             color='green', linestyle='--',\n",
    "             marker='s', markersize=5,\n",
    "             label='validation accuracy')\n",
    "\n",
    "    plt.fill_between(train_sizes,\n",
    "                     test_mean + test_std,\n",
    "                     test_mean - test_std,\n",
    "                     alpha=0.15, color='green')\n",
    "\n",
    "    plt.grid()\n",
    "    plt.title(title)\n",
    "    plt.xlabel('Number of training samples')\n",
    "    plt.ylabel('Accuracy')\n",
    "    plt.legend(loc='lower right')\n",
    "    plt.ylim([0.2, 1.0])\n",
    "    plt.tight_layout()\n",
    "    plt.savefig('./figures/learning_curve_xgboost_{:%Y%m%d-%H%M}.png'.format(datetime.datetime.now()), dpi=300)\n",
    "    plt.show()"
   ]
  },
  {
   "cell_type": "code",
   "execution_count": 30,
   "metadata": {},
   "outputs": [
    {
     "data": {
      "text/plain": [
       "<matplotlib.figure.Figure at 0x7f64fe86bd50>"
      ]
     },
     "metadata": {},
     "output_type": "display_data"
    }
   ],
   "source": [
    "plot_learning_curve(X_train, y_train, clf_xgb, 'xgb')"
   ]
  },
  {
   "cell_type": "markdown",
   "metadata": {},
   "source": [
    "## Prediction\n",
    "Prepare train & test data for predition model"
   ]
  },
  {
   "cell_type": "code",
   "execution_count": 130,
   "metadata": {},
   "outputs": [
    {
     "name": "stdout",
     "output_type": "stream",
     "text": [
      "Train data shape: (560000, 57)\n",
      "Train data shape: (361500, 57)\n"
     ]
    }
   ],
   "source": [
    "# Train all data, to train a subset\n",
    "# selected_cols = [col for col in train1_df.columns if col not in ['period', 'target']]\n",
    "selected_cols = [col for col in train1_df.columns if col not in excluded_cols]\n",
    "X_train = df[selected_cols].values\n",
    "y_train = df['target'].values\n",
    "X_test = df_test[selected_cols].values\n",
    "print 'Train data shape: {}'.format(X_train.shape)\n",
    "print 'Train data shape: {}'.format(X_test.shape)"
   ]
  },
  {
   "cell_type": "markdown",
   "metadata": {},
   "source": [
    "Fit all training data (above code is model with cross validation) and make prediction"
   ]
  },
  {
   "cell_type": "code",
   "execution_count": 131,
   "metadata": {
    "collapsed": true
   },
   "outputs": [],
   "source": [
    "chosen_est = clf_xgb\n",
    "chosen_est.fit(X_train, y_train)\n",
    "predictions = chosen_est.predict_proba(X_test)[:,1]\n",
    "submission = pd.DataFrame({'data_id': df_test['data_id'],'target': predictions})\n",
    "submission.to_csv(\"submit_{:%Y%m%d-%H%M}.csv\".format(datetime.datetime.now()), index=False)"
   ]
  },
  {
   "cell_type": "code",
   "execution_count": null,
   "metadata": {
    "collapsed": true
   },
   "outputs": [],
   "source": []
  }
 ],
 "metadata": {
  "kernelspec": {
   "display_name": "Python 3",
   "language": "python",
   "name": "python3"
  }
 },
 "nbformat": 4,
 "nbformat_minor": 2
}
